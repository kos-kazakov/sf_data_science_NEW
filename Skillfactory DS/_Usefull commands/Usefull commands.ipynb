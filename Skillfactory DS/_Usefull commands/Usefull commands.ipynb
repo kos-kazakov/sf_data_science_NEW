{
 "cells": [
  {
   "cell_type": "code",
   "execution_count": 1,
   "metadata": {},
   "outputs": [],
   "source": [
    "import pandas as pd"
   ]
  },
  {
   "cell_type": "code",
   "execution_count": null,
   "metadata": {},
   "outputs": [],
   "source": [
    "# настройки pandas\n",
    "pd.options.display.max_rows = 20 # сколько выводить строк\n",
    "pd.set_option('display.max_columns', None) # чтобы выводить все столбцы\n",
    "pd.options.display.max_colwidth = 100 # задать кол-во символов в колонке\n",
    "pd.options.display.precision = 2 # точность после запятой\n",
    "\n",
    "#Градиент по значениям ячеек\n",
    "df.style.background_gradient(cmap=\"Blues\") # или cmap=\"YlOrBr\""
   ]
  }
 ],
 "metadata": {
  "kernelspec": {
   "display_name": "Python 3",
   "language": "python",
   "name": "python3"
  },
  "language_info": {
   "codemirror_mode": {
    "name": "ipython",
    "version": 3
   },
   "file_extension": ".py",
   "mimetype": "text/x-python",
   "name": "python",
   "nbconvert_exporter": "python",
   "pygments_lexer": "ipython3",
   "version": "3.9.13"
  },
  "orig_nbformat": 4,
  "vscode": {
   "interpreter": {
    "hash": "cd77b519c2b1baf1c6ee5f295bd886c145c3e964bd37e52fece39b10a152b4f2"
   }
  }
 },
 "nbformat": 4,
 "nbformat_minor": 2
}
