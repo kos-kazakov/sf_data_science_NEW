{
  "cells": [
    {
      "cell_type": "markdown",
      "id": "42289889-bd57-434e-9637-d3e354756316",
      "metadata": {
        "id": "42289889-bd57-434e-9637-d3e354756316"
      },
      "source": [
        "<center> <img src = https://raw.githubusercontent.com/AndreyRysistov/DatasetsForPandas/main/hh%20label.jpg alt=\"drawing\" style=\"width:400px;\">"
      ]
    },
    {
      "cell_type": "markdown",
      "id": "829cb75b-f14e-4ba8-9195-7ba929a7d656",
      "metadata": {
        "id": "829cb75b-f14e-4ba8-9195-7ba929a7d656",
        "tags": []
      },
      "source": [
        "# <center> Проект: Анализ вакансий из HeadHunter\n",
        "   "
      ]
    },
    {
      "cell_type": "code",
      "execution_count": 118,
      "id": "dccfde33-2452-43fb-a8a5-5c6ebc02a71d",
      "metadata": {
        "id": "dccfde33-2452-43fb-a8a5-5c6ebc02a71d"
      },
      "outputs": [],
      "source": [
        "import pandas as pd\n",
        "import psycopg2\n",
        "import sqlalchemy"
      ]
    },
    {
      "cell_type": "code",
      "execution_count": 119,
      "id": "9ba5b85b",
      "metadata": {},
      "outputs": [],
      "source": [
        "f = 'connect.yaml' # файл с параметрами подключения\n",
        "d = {k:v.strip() for k, v in (l.split(':') for l in open(f))} # считывание параметров из файла\n",
        "conn_str = f\"postgresql+psycopg2://{d['user']}:{d['password']}@{d['host']}:{d['port']}/{d['dbname']}\" # строка для подключения к БД"
      ]
    },
    {
      "cell_type": "code",
      "execution_count": 120,
      "id": "126dd91d",
      "metadata": {},
      "outputs": [],
      "source": [
        "connection = psycopg2.connect(\n",
        "   dbname=DBNAME,\n",
        "   user=USER,\n",
        "   host=HOST,\n",
        "   password=PASSWORD,\n",
        "   port=PORT\n",
        ") # подключение к БД с явным указанием параметров (применено для юнита 6, т.к. метод с чтением параметров из файла вызывал ошибку)"
      ]
    },
    {
      "cell_type": "markdown",
      "id": "0dc6476b-7a00-44f1-ac93-6e3baed33a29",
      "metadata": {
        "id": "0dc6476b-7a00-44f1-ac93-6e3baed33a29"
      },
      "source": [
        "# Юнит 3. Предварительный анализ данных"
      ]
    },
    {
      "cell_type": "markdown",
      "id": "889782b6-8d1c-410e-8920-e57f27917c64",
      "metadata": {
        "id": "889782b6-8d1c-410e-8920-e57f27917c64"
      },
      "source": [
        "1. Напишите запрос, который посчитает количество вакансий в нашей базе (вакансии находятся в таблице vacancies). "
      ]
    },
    {
      "cell_type": "code",
      "execution_count": 121,
      "id": "bc39e68e-ed02-4ee2-9235-7258a2f867a8",
      "metadata": {
        "id": "bc39e68e-ed02-4ee2-9235-7258a2f867a8"
      },
      "outputs": [],
      "source": [
        "# текст запроса\n",
        "query_3_1 = f'''select\n",
        "                    count(*) \"Количество вакансий в БД\"\n",
        "                from public.vacancies\n",
        "             '''"
      ]
    },
    {
      "cell_type": "code",
      "execution_count": 122,
      "id": "7mAwtsk4hEHY",
      "metadata": {
        "id": "7mAwtsk4hEHY"
      },
      "outputs": [
        {
          "data": {
            "text/html": [
              "<div>\n",
              "<style scoped>\n",
              "    .dataframe tbody tr th:only-of-type {\n",
              "        vertical-align: middle;\n",
              "    }\n",
              "\n",
              "    .dataframe tbody tr th {\n",
              "        vertical-align: top;\n",
              "    }\n",
              "\n",
              "    .dataframe thead th {\n",
              "        text-align: right;\n",
              "    }\n",
              "</style>\n",
              "<table border=\"1\" class=\"dataframe\">\n",
              "  <thead>\n",
              "    <tr style=\"text-align: right;\">\n",
              "      <th></th>\n",
              "      <th>Количество вакансий в БД</th>\n",
              "    </tr>\n",
              "  </thead>\n",
              "  <tbody>\n",
              "    <tr>\n",
              "      <th>0</th>\n",
              "      <td>49197</td>\n",
              "    </tr>\n",
              "  </tbody>\n",
              "</table>\n",
              "</div>"
            ],
            "text/plain": [
              "   Количество вакансий в БД\n",
              "0                     49197"
            ]
          },
          "metadata": {},
          "output_type": "display_data"
        }
      ],
      "source": [
        "# результат запроса\n",
        "df_vac = pd.read_sql_query(query_3_1, conn_str)\n",
        "display(df_vac)"
      ]
    },
    {
      "cell_type": "markdown",
      "id": "b583485d-1f9e-494e-ada4-80ffff7c53d6",
      "metadata": {
        "id": "b583485d-1f9e-494e-ada4-80ffff7c53d6"
      },
      "source": [
        "2. Напишите запрос, который посчитает количество работодателей (таблица employers). "
      ]
    },
    {
      "cell_type": "code",
      "execution_count": 123,
      "id": "5408c52c-3407-4a63-b25b-1aafa2322d28",
      "metadata": {
        "id": "5408c52c-3407-4a63-b25b-1aafa2322d28"
      },
      "outputs": [],
      "source": [
        "# текст запроса\n",
        "query_3_2 = f'''select\n",
        "                    count(*) \"Количество работодателей в БД\"\n",
        "                from public.employers\n",
        "             '''"
      ]
    },
    {
      "cell_type": "code",
      "execution_count": 124,
      "id": "jVL4eshKhdqc",
      "metadata": {
        "id": "jVL4eshKhdqc"
      },
      "outputs": [
        {
          "data": {
            "text/html": [
              "<div>\n",
              "<style scoped>\n",
              "    .dataframe tbody tr th:only-of-type {\n",
              "        vertical-align: middle;\n",
              "    }\n",
              "\n",
              "    .dataframe tbody tr th {\n",
              "        vertical-align: top;\n",
              "    }\n",
              "\n",
              "    .dataframe thead th {\n",
              "        text-align: right;\n",
              "    }\n",
              "</style>\n",
              "<table border=\"1\" class=\"dataframe\">\n",
              "  <thead>\n",
              "    <tr style=\"text-align: right;\">\n",
              "      <th></th>\n",
              "      <th>Количество работодателей в БД</th>\n",
              "    </tr>\n",
              "  </thead>\n",
              "  <tbody>\n",
              "    <tr>\n",
              "      <th>0</th>\n",
              "      <td>23501</td>\n",
              "    </tr>\n",
              "  </tbody>\n",
              "</table>\n",
              "</div>"
            ],
            "text/plain": [
              "   Количество работодателей в БД\n",
              "0                          23501"
            ]
          },
          "metadata": {},
          "output_type": "display_data"
        }
      ],
      "source": [
        "# результат запроса\n",
        "df_emp = pd.read_sql_query(query_3_2, conn_str)\n",
        "display(df_emp)"
      ]
    },
    {
      "cell_type": "markdown",
      "id": "a2bfff1f-c975-4bf6-84be-2185d79dcb76",
      "metadata": {
        "id": "a2bfff1f-c975-4bf6-84be-2185d79dcb76"
      },
      "source": [
        "3. Посчитате с помощью запроса количество регионов (таблица areas)."
      ]
    },
    {
      "cell_type": "code",
      "execution_count": 125,
      "id": "1m8QJwBYhey6",
      "metadata": {
        "id": "1m8QJwBYhey6"
      },
      "outputs": [],
      "source": [
        "# текст запроса\n",
        "query_3_3 = f'''select\n",
        "                    count(*) \"Количество регионов в БД\"\n",
        "                from public.areas\n",
        "             '''"
      ]
    },
    {
      "cell_type": "code",
      "execution_count": 126,
      "id": "EZsn9tlfhe7f",
      "metadata": {
        "id": "EZsn9tlfhe7f"
      },
      "outputs": [
        {
          "data": {
            "text/html": [
              "<div>\n",
              "<style scoped>\n",
              "    .dataframe tbody tr th:only-of-type {\n",
              "        vertical-align: middle;\n",
              "    }\n",
              "\n",
              "    .dataframe tbody tr th {\n",
              "        vertical-align: top;\n",
              "    }\n",
              "\n",
              "    .dataframe thead th {\n",
              "        text-align: right;\n",
              "    }\n",
              "</style>\n",
              "<table border=\"1\" class=\"dataframe\">\n",
              "  <thead>\n",
              "    <tr style=\"text-align: right;\">\n",
              "      <th></th>\n",
              "      <th>Количество регионов в БД</th>\n",
              "    </tr>\n",
              "  </thead>\n",
              "  <tbody>\n",
              "    <tr>\n",
              "      <th>0</th>\n",
              "      <td>1362</td>\n",
              "    </tr>\n",
              "  </tbody>\n",
              "</table>\n",
              "</div>"
            ],
            "text/plain": [
              "   Количество регионов в БД\n",
              "0                      1362"
            ]
          },
          "metadata": {},
          "output_type": "display_data"
        }
      ],
      "source": [
        "# результат запроса\n",
        "df_reg = pd.read_sql_query(query_3_3, conn_str)\n",
        "display(df_reg)"
      ]
    },
    {
      "cell_type": "markdown",
      "id": "41bb59f3-53cc-4a67-a5bc-bedf573955e4",
      "metadata": {
        "id": "41bb59f3-53cc-4a67-a5bc-bedf573955e4"
      },
      "source": [
        "4. Посчитате с помощью запроса количество сфер деятельности в базе (таблица industries)."
      ]
    },
    {
      "cell_type": "code",
      "execution_count": 127,
      "id": "d286cf4c-707b-4cd2-9190-7ab3587d04a1",
      "metadata": {
        "id": "d286cf4c-707b-4cd2-9190-7ab3587d04a1"
      },
      "outputs": [],
      "source": [
        "# текст запроса\n",
        "query_3_4 = f'''select\n",
        "                    count(*) \"Количество сфер деятельности в БД\"\n",
        "                from public.industries\n",
        "             '''"
      ]
    },
    {
      "cell_type": "code",
      "execution_count": 128,
      "id": "JYAaoZ4qhfzW",
      "metadata": {
        "id": "JYAaoZ4qhfzW"
      },
      "outputs": [
        {
          "data": {
            "text/html": [
              "<div>\n",
              "<style scoped>\n",
              "    .dataframe tbody tr th:only-of-type {\n",
              "        vertical-align: middle;\n",
              "    }\n",
              "\n",
              "    .dataframe tbody tr th {\n",
              "        vertical-align: top;\n",
              "    }\n",
              "\n",
              "    .dataframe thead th {\n",
              "        text-align: right;\n",
              "    }\n",
              "</style>\n",
              "<table border=\"1\" class=\"dataframe\">\n",
              "  <thead>\n",
              "    <tr style=\"text-align: right;\">\n",
              "      <th></th>\n",
              "      <th>Количество сфер деятельности в БД</th>\n",
              "    </tr>\n",
              "  </thead>\n",
              "  <tbody>\n",
              "    <tr>\n",
              "      <th>0</th>\n",
              "      <td>294</td>\n",
              "    </tr>\n",
              "  </tbody>\n",
              "</table>\n",
              "</div>"
            ],
            "text/plain": [
              "   Количество сфер деятельности в БД\n",
              "0                                294"
            ]
          },
          "metadata": {},
          "output_type": "display_data"
        }
      ],
      "source": [
        "# результат запроса\n",
        "df_ind = pd.read_sql_query(query_3_4, conn_str)\n",
        "display(df_ind)"
      ]
    },
    {
      "cell_type": "markdown",
      "id": "9a8a2181-6914-448b-85f1-38f5f18b8a93",
      "metadata": {
        "id": "9a8a2181-6914-448b-85f1-38f5f18b8a93"
      },
      "source": [
        "***"
      ]
    },
    {
      "cell_type": "code",
      "execution_count": 129,
      "id": "7d112ce1",
      "metadata": {},
      "outputs": [
        {
          "data": {
            "text/plain": [
              "'Среднее количество вакансий на 1 работодателя: 2.09'"
            ]
          },
          "metadata": {},
          "output_type": "display_data"
        },
        {
          "data": {
            "text/plain": [
              "'Среднее количество вакансий на 1 регион: 36.12'"
            ]
          },
          "metadata": {},
          "output_type": "display_data"
        },
        {
          "data": {
            "text/plain": [
              "'Среднее количество вакансий на 1 cферу деятельности: 167.34'"
            ]
          },
          "metadata": {},
          "output_type": "display_data"
        }
      ],
      "source": [
        "display(f\"Среднее количество вакансий на 1 работодателя: {round((df_vac.iloc[0, 0] / df_emp.iloc[0, 0]), 2)}\")\n",
        "display(f\"Среднее количество вакансий на 1 регион: {round((df_vac.iloc[0, 0] / df_reg.iloc[0, 0]), 2)}\")\n",
        "display(f\"Среднее количество вакансий на 1 cферу деятельности: {round((df_vac.iloc[0, 0] / df_ind.iloc[0, 0]), 2)}\")"
      ]
    },
    {
      "attachments": {},
      "cell_type": "markdown",
      "id": "728643c5",
      "metadata": {},
      "source": [
        "Выводы:\n",
        "\n",
        "В БД содержится достаточное количество вакансий для анализа. Количество вакансий превышает количество работодателей более чем в 2 раза. В среднем на регион и сферу деятельности работодателя приходится по 36 и 167 вакансий соответственно, что позволяет проводить дельнейший анализ по отдельным критериям."
      ]
    },
    {
      "cell_type": "markdown",
      "id": "8d62a9f3-f64e-4fe7-bdac-c4dffa16155e",
      "metadata": {
        "id": "8d62a9f3-f64e-4fe7-bdac-c4dffa16155e"
      },
      "source": [
        "# Юнит 4. Детальный анализ вакансий"
      ]
    },
    {
      "cell_type": "markdown",
      "id": "93053d3d-b284-481a-9cf7-012d7014c0e0",
      "metadata": {
        "id": "93053d3d-b284-481a-9cf7-012d7014c0e0"
      },
      "source": [
        "1. Напишите запрос, который позволит узнать, сколько (cnt) вакансий в каждом регионе (area).\n",
        "Отсортируйте по количеству вакансий в порядке убывания."
      ]
    },
    {
      "cell_type": "code",
      "execution_count": 130,
      "id": "d72a058d",
      "metadata": {},
      "outputs": [],
      "source": [
        "# текст запроса\n",
        "query_4_1 = f'''select\n",
        "                    a.name area,\n",
        "                    count(*) cnt\n",
        "                from public.vacancies v\n",
        "                join public.areas a on v.area_id = a.id /*соединение таблиц vacancies и areas по id региона*/\n",
        "                group by area /*группировка по названию региона*/\n",
        "                order by cnt desc /*сортировка по убыванию количества вакансий*/\n",
        "                limit 5\n",
        "             '''"
      ]
    },
    {
      "cell_type": "code",
      "execution_count": 131,
      "id": "P7QL86hrjhRJ",
      "metadata": {
        "id": "P7QL86hrjhRJ"
      },
      "outputs": [
        {
          "data": {
            "text/html": [
              "<div>\n",
              "<style scoped>\n",
              "    .dataframe tbody tr th:only-of-type {\n",
              "        vertical-align: middle;\n",
              "    }\n",
              "\n",
              "    .dataframe tbody tr th {\n",
              "        vertical-align: top;\n",
              "    }\n",
              "\n",
              "    .dataframe thead th {\n",
              "        text-align: right;\n",
              "    }\n",
              "</style>\n",
              "<table border=\"1\" class=\"dataframe\">\n",
              "  <thead>\n",
              "    <tr style=\"text-align: right;\">\n",
              "      <th></th>\n",
              "      <th>area</th>\n",
              "      <th>cnt</th>\n",
              "    </tr>\n",
              "  </thead>\n",
              "  <tbody>\n",
              "    <tr>\n",
              "      <th>0</th>\n",
              "      <td>Москва</td>\n",
              "      <td>5333</td>\n",
              "    </tr>\n",
              "    <tr>\n",
              "      <th>1</th>\n",
              "      <td>Санкт-Петербург</td>\n",
              "      <td>2851</td>\n",
              "    </tr>\n",
              "    <tr>\n",
              "      <th>2</th>\n",
              "      <td>Минск</td>\n",
              "      <td>2112</td>\n",
              "    </tr>\n",
              "    <tr>\n",
              "      <th>3</th>\n",
              "      <td>Новосибирск</td>\n",
              "      <td>2006</td>\n",
              "    </tr>\n",
              "    <tr>\n",
              "      <th>4</th>\n",
              "      <td>Алматы</td>\n",
              "      <td>1892</td>\n",
              "    </tr>\n",
              "  </tbody>\n",
              "</table>\n",
              "</div>"
            ],
            "text/plain": [
              "              area   cnt\n",
              "0           Москва  5333\n",
              "1  Санкт-Петербург  2851\n",
              "2            Минск  2112\n",
              "3      Новосибирск  2006\n",
              "4           Алматы  1892"
            ]
          },
          "metadata": {},
          "output_type": "display_data"
        }
      ],
      "source": [
        "# результат запроса\n",
        "df = pd.read_sql_query(query_4_1, conn_str)\n",
        "display(df)"
      ]
    },
    {
      "cell_type": "markdown",
      "id": "4266f0b6-1646-492a-88b4-2f6a46502135",
      "metadata": {
        "id": "4266f0b6-1646-492a-88b4-2f6a46502135"
      },
      "source": [
        "2. Напишите запрос, чтобы определить у какого количества вакансий заполнено хотя бы одно из двух полей с зарплатой."
      ]
    },
    {
      "cell_type": "code",
      "execution_count": 132,
      "id": "0c44b350-72eb-4d65-8b54-a1fc449ba9fd",
      "metadata": {
        "id": "0c44b350-72eb-4d65-8b54-a1fc449ba9fd"
      },
      "outputs": [],
      "source": [
        "# текст запроса\n",
        "query_4_2 = f'''select\n",
        "                    count(*) \"Количество вакансий с з/п\"\n",
        "                from public.vacancies\n",
        "                where salary_from is not null or salary_to is not null /*условие наличия указанного значения зарплаты*/\n",
        "             '''"
      ]
    },
    {
      "cell_type": "code",
      "execution_count": 133,
      "id": "rhvwaMDkoWTi",
      "metadata": {
        "id": "rhvwaMDkoWTi"
      },
      "outputs": [
        {
          "data": {
            "text/html": [
              "<div>\n",
              "<style scoped>\n",
              "    .dataframe tbody tr th:only-of-type {\n",
              "        vertical-align: middle;\n",
              "    }\n",
              "\n",
              "    .dataframe tbody tr th {\n",
              "        vertical-align: top;\n",
              "    }\n",
              "\n",
              "    .dataframe thead th {\n",
              "        text-align: right;\n",
              "    }\n",
              "</style>\n",
              "<table border=\"1\" class=\"dataframe\">\n",
              "  <thead>\n",
              "    <tr style=\"text-align: right;\">\n",
              "      <th></th>\n",
              "      <th>Количество вакансий с з/п</th>\n",
              "    </tr>\n",
              "  </thead>\n",
              "  <tbody>\n",
              "    <tr>\n",
              "      <th>0</th>\n",
              "      <td>24073</td>\n",
              "    </tr>\n",
              "  </tbody>\n",
              "</table>\n",
              "</div>"
            ],
            "text/plain": [
              "   Количество вакансий с з/п\n",
              "0                      24073"
            ]
          },
          "metadata": {},
          "output_type": "display_data"
        }
      ],
      "source": [
        "# результат запроса\n",
        "df = pd.read_sql_query(query_4_2, conn_str)\n",
        "display(df)"
      ]
    },
    {
      "cell_type": "markdown",
      "id": "635c4d5d-f323-4c66-b428-50a088120aa0",
      "metadata": {
        "id": "635c4d5d-f323-4c66-b428-50a088120aa0"
      },
      "source": [
        "3. Найдите средние значения для нижней и верхней границы зарплатной вилки. Округлите значения до целого."
      ]
    },
    {
      "cell_type": "code",
      "execution_count": 134,
      "id": "603cdbe4-0ec3-4106-8eaf-c73fcdd29165",
      "metadata": {
        "id": "603cdbe4-0ec3-4106-8eaf-c73fcdd29165"
      },
      "outputs": [],
      "source": [
        "# текст запроса\n",
        "query_4_3 = f'''select\n",
        "                    round(avg(salary_from)) \"Средняя з/п от\",\n",
        "                    round(avg(salary_to)) \"Средняя з/п до\"\n",
        "                from public.vacancies\n",
        "             '''"
      ]
    },
    {
      "cell_type": "code",
      "execution_count": 135,
      "id": "pswpAb66ovZZ",
      "metadata": {
        "id": "pswpAb66ovZZ"
      },
      "outputs": [
        {
          "data": {
            "text/html": [
              "<div>\n",
              "<style scoped>\n",
              "    .dataframe tbody tr th:only-of-type {\n",
              "        vertical-align: middle;\n",
              "    }\n",
              "\n",
              "    .dataframe tbody tr th {\n",
              "        vertical-align: top;\n",
              "    }\n",
              "\n",
              "    .dataframe thead th {\n",
              "        text-align: right;\n",
              "    }\n",
              "</style>\n",
              "<table border=\"1\" class=\"dataframe\">\n",
              "  <thead>\n",
              "    <tr style=\"text-align: right;\">\n",
              "      <th></th>\n",
              "      <th>Средняя з/п от</th>\n",
              "      <th>Средняя з/п до</th>\n",
              "    </tr>\n",
              "  </thead>\n",
              "  <tbody>\n",
              "    <tr>\n",
              "      <th>0</th>\n",
              "      <td>71065.0</td>\n",
              "      <td>110537.0</td>\n",
              "    </tr>\n",
              "  </tbody>\n",
              "</table>\n",
              "</div>"
            ],
            "text/plain": [
              "   Средняя з/п от  Средняя з/п до\n",
              "0         71065.0        110537.0"
            ]
          },
          "metadata": {},
          "output_type": "display_data"
        }
      ],
      "source": [
        "# результат запроса\n",
        "df = pd.read_sql_query(query_4_3, conn_str)\n",
        "display(df)"
      ]
    },
    {
      "cell_type": "markdown",
      "id": "f3fdaec9-5fd3-4260-9cf5-1d7406b628a5",
      "metadata": {
        "id": "f3fdaec9-5fd3-4260-9cf5-1d7406b628a5"
      },
      "source": [
        "4. Напишите запрос, который выведет количество вакансий для каждого сочетания типа рабочего графика (schedule) и типа трудоустройства (employment), используемого в вакансиях. Результат отсортируйте по убыванию количества.\n"
      ]
    },
    {
      "cell_type": "code",
      "execution_count": 136,
      "id": "1ea710ec-871b-431e-9462-c7d0fd87011b",
      "metadata": {
        "id": "1ea710ec-871b-431e-9462-c7d0fd87011b"
      },
      "outputs": [],
      "source": [
        "# текст запроса\n",
        "query_4_4 = f'''select\n",
        "                    schedule \"Тип рабочего графика\",\n",
        "                    employment \"Тип трудоустройства\",\n",
        "                    count(*) \"Количество вакансий\"\n",
        "                from public.vacancies\n",
        "                group by schedule, employment /*группировка по типам графика и трудоустройства*/\n",
        "                order by 3 desc /*сортировка по убыванию количества вакансий*/\n",
        "                offset 1\n",
        "                limit 1\n",
        "             '''"
      ]
    },
    {
      "cell_type": "code",
      "execution_count": 137,
      "id": "lGUVqavdo4JQ",
      "metadata": {
        "id": "lGUVqavdo4JQ"
      },
      "outputs": [
        {
          "data": {
            "text/html": [
              "<div>\n",
              "<style scoped>\n",
              "    .dataframe tbody tr th:only-of-type {\n",
              "        vertical-align: middle;\n",
              "    }\n",
              "\n",
              "    .dataframe tbody tr th {\n",
              "        vertical-align: top;\n",
              "    }\n",
              "\n",
              "    .dataframe thead th {\n",
              "        text-align: right;\n",
              "    }\n",
              "</style>\n",
              "<table border=\"1\" class=\"dataframe\">\n",
              "  <thead>\n",
              "    <tr style=\"text-align: right;\">\n",
              "      <th></th>\n",
              "      <th>Тип рабочего графика</th>\n",
              "      <th>Тип трудоустройства</th>\n",
              "      <th>Количество вакансий</th>\n",
              "    </tr>\n",
              "  </thead>\n",
              "  <tbody>\n",
              "    <tr>\n",
              "      <th>0</th>\n",
              "      <td>Удаленная работа</td>\n",
              "      <td>Полная занятость</td>\n",
              "      <td>7802</td>\n",
              "    </tr>\n",
              "  </tbody>\n",
              "</table>\n",
              "</div>"
            ],
            "text/plain": [
              "  Тип рабочего графика Тип трудоустройства  Количество вакансий\n",
              "0     Удаленная работа    Полная занятость                 7802"
            ]
          },
          "metadata": {},
          "output_type": "display_data"
        }
      ],
      "source": [
        "# результат запроса\n",
        "df = pd.read_sql_query(query_4_4, conn_str)\n",
        "display(df)"
      ]
    },
    {
      "cell_type": "markdown",
      "id": "0136ffee-0ead-4a6b-b608-61d1c753a438",
      "metadata": {
        "id": "0136ffee-0ead-4a6b-b608-61d1c753a438"
      },
      "source": [
        "5. Напишите запрос, выводящий значения поля Требуемый опыт работы (experience) в порядке возрастания количества вакансий, в которых указан данный вариант опыта. "
      ]
    },
    {
      "cell_type": "code",
      "execution_count": 138,
      "id": "5b3a8e79-f7ab-4008-b767-12aea3a205ea",
      "metadata": {
        "id": "5b3a8e79-f7ab-4008-b767-12aea3a205ea"
      },
      "outputs": [],
      "source": [
        "# текст запроса\n",
        "query_4_5 = f'''select\n",
        "                    experience \"Требуемый опыт\",\n",
        "                    count(*) \"Количество вакансий\"\n",
        "                from public.vacancies\n",
        "                group by experience /*группировка по опыту работы*/\n",
        "                order by 2 /*сортировка по возрастанию количества вакансий*/\n",
        "             '''"
      ]
    },
    {
      "cell_type": "code",
      "execution_count": 139,
      "id": "3Is64Y-hpDpq",
      "metadata": {
        "id": "3Is64Y-hpDpq"
      },
      "outputs": [
        {
          "data": {
            "text/html": [
              "<div>\n",
              "<style scoped>\n",
              "    .dataframe tbody tr th:only-of-type {\n",
              "        vertical-align: middle;\n",
              "    }\n",
              "\n",
              "    .dataframe tbody tr th {\n",
              "        vertical-align: top;\n",
              "    }\n",
              "\n",
              "    .dataframe thead th {\n",
              "        text-align: right;\n",
              "    }\n",
              "</style>\n",
              "<table border=\"1\" class=\"dataframe\">\n",
              "  <thead>\n",
              "    <tr style=\"text-align: right;\">\n",
              "      <th></th>\n",
              "      <th>Требуемый опыт</th>\n",
              "      <th>Количество вакансий</th>\n",
              "    </tr>\n",
              "  </thead>\n",
              "  <tbody>\n",
              "    <tr>\n",
              "      <th>0</th>\n",
              "      <td>Более 6 лет</td>\n",
              "      <td>1337</td>\n",
              "    </tr>\n",
              "    <tr>\n",
              "      <th>1</th>\n",
              "      <td>Нет опыта</td>\n",
              "      <td>7197</td>\n",
              "    </tr>\n",
              "    <tr>\n",
              "      <th>2</th>\n",
              "      <td>От 3 до 6 лет</td>\n",
              "      <td>14511</td>\n",
              "    </tr>\n",
              "    <tr>\n",
              "      <th>3</th>\n",
              "      <td>От 1 года до 3 лет</td>\n",
              "      <td>26152</td>\n",
              "    </tr>\n",
              "  </tbody>\n",
              "</table>\n",
              "</div>"
            ],
            "text/plain": [
              "       Требуемый опыт  Количество вакансий\n",
              "0         Более 6 лет                 1337\n",
              "1           Нет опыта                 7197\n",
              "2       От 3 до 6 лет                14511\n",
              "3  От 1 года до 3 лет                26152"
            ]
          },
          "metadata": {},
          "output_type": "display_data"
        }
      ],
      "source": [
        "# результат запроса\n",
        "df = pd.read_sql_query(query_4_5, conn_str)\n",
        "display(df)"
      ]
    },
    {
      "cell_type": "markdown",
      "id": "oq2b7n1QpIka",
      "metadata": {
        "id": "oq2b7n1QpIka"
      },
      "source": [
        "***"
      ]
    },
    {
      "attachments": {},
      "cell_type": "markdown",
      "id": "3db2ae1f",
      "metadata": {},
      "source": [
        "Выводы:\n",
        "\n",
        "- Наибольшее количество вакансий представлено в столицах и городах-миллионниках, что вполне логично.\n",
        "- Для более чем половины вакансий в БД не указан размер заработной платы, что может быть связано с желанием работодателя определить уровень заработной платы соискателя по результатам собеседования. Средняя же з/п для вакансий с указанием такой информации колеблется от 71 до 110 тысяч рублей.\n",
        "- Вакансии с полной занятостью составляют бОльшую часть предложений работодателей. Наиболее распространенным типом рабочего графика является \"Полный день\". Примерно каждая пятая вакансия подразумевает удаленный режим работы.\n",
        "- Более 80% вакансий содержат требования по опыту работы от 1 года до 6 лет."
      ]
    },
    {
      "cell_type": "markdown",
      "id": "7ea20ab6-04a7-40a0-adec-443a0e5a42c3",
      "metadata": {
        "id": "7ea20ab6-04a7-40a0-adec-443a0e5a42c3"
      },
      "source": [
        "# Юнит 5. Анализ работодателей"
      ]
    },
    {
      "cell_type": "markdown",
      "id": "968aed80-74ef-4ffb-b5bf-c65b84e9caea",
      "metadata": {
        "id": "968aed80-74ef-4ffb-b5bf-c65b84e9caea"
      },
      "source": [
        "1. Напишите запрос, который позволит узнать, какие работодатели находятся на первом и пятом месте по количеству вакансий."
      ]
    },
    {
      "cell_type": "code",
      "execution_count": 140,
      "id": "f2d62796-d400-4ec1-a675-88112739a50e",
      "metadata": {
        "id": "f2d62796-d400-4ec1-a675-88112739a50e"
      },
      "outputs": [],
      "source": [
        "# текст запроса\n",
        "query_5_1 = f'''(select\n",
        "                    e.name \"Работодатель\",\n",
        "                    count(*) \"Количество вакансий\"\n",
        "                from public.employers e\n",
        "                join public.vacancies v on e.id = v.employer_id /*соединение таблиц employers и vacancies по id работодателя*/\n",
        "                group by e.name /*группировка по названию работодателя*/\n",
        "                order by 2 desc\n",
        "                limit 1)\n",
        "    \n",
        "                union all /*объединение результатов двух запросов*/\n",
        "\n",
        "                (select\n",
        "                    e.name,\n",
        "                    count(*)\n",
        "                from public.employers e\n",
        "                join public.vacancies v on e.id = v.employer_id\n",
        "                group by e.name\n",
        "                order by 2 desc\n",
        "                offset 4\n",
        "                limit 1)\n",
        "             '''"
      ]
    },
    {
      "cell_type": "code",
      "execution_count": 141,
      "id": "64tOMkAxqkQk",
      "metadata": {
        "id": "64tOMkAxqkQk"
      },
      "outputs": [
        {
          "data": {
            "text/html": [
              "<div>\n",
              "<style scoped>\n",
              "    .dataframe tbody tr th:only-of-type {\n",
              "        vertical-align: middle;\n",
              "    }\n",
              "\n",
              "    .dataframe tbody tr th {\n",
              "        vertical-align: top;\n",
              "    }\n",
              "\n",
              "    .dataframe thead th {\n",
              "        text-align: right;\n",
              "    }\n",
              "</style>\n",
              "<table border=\"1\" class=\"dataframe\">\n",
              "  <thead>\n",
              "    <tr style=\"text-align: right;\">\n",
              "      <th></th>\n",
              "      <th>Работодатель</th>\n",
              "      <th>Количество вакансий</th>\n",
              "    </tr>\n",
              "  </thead>\n",
              "  <tbody>\n",
              "    <tr>\n",
              "      <th>0</th>\n",
              "      <td>Яндекс</td>\n",
              "      <td>1933</td>\n",
              "    </tr>\n",
              "    <tr>\n",
              "      <th>1</th>\n",
              "      <td>Газпром нефть</td>\n",
              "      <td>331</td>\n",
              "    </tr>\n",
              "  </tbody>\n",
              "</table>\n",
              "</div>"
            ],
            "text/plain": [
              "    Работодатель  Количество вакансий\n",
              "0         Яндекс                 1933\n",
              "1  Газпром нефть                  331"
            ]
          },
          "metadata": {},
          "output_type": "display_data"
        }
      ],
      "source": [
        "# результат запроса\n",
        "df = pd.read_sql_query(query_5_1, conn_str)\n",
        "display(df)"
      ]
    },
    {
      "cell_type": "markdown",
      "id": "68377cfc-b378-43dc-ab7d-1195abf2c515",
      "metadata": {
        "id": "68377cfc-b378-43dc-ab7d-1195abf2c515"
      },
      "source": [
        "2. Напишите запрос, который для каждого региона выведет количество работодателей и вакансий в нём.\n",
        "Среди регионов, в которых нет вакансий, найдите тот, в котором наибольшее количество работодателей.\n"
      ]
    },
    {
      "cell_type": "code",
      "execution_count": 142,
      "id": "dd7df27a-e3e8-412e-a21a-5d389b71e891",
      "metadata": {
        "id": "dd7df27a-e3e8-412e-a21a-5d389b71e891"
      },
      "outputs": [],
      "source": [
        "# текст запроса\n",
        "query_5_2 = f'''select \n",
        "                    a.name \"Регион\",\n",
        "                    count(distinct e.id) \"Количество работодателей\",\n",
        "                    count(distinct v.id) \"Количество вакансий\"\n",
        "                from public.areas a\n",
        "                left join public.employers e on a.id = e.area /*присоединение к таблице areas таблицы employers по id региона*/\n",
        "                left join public.vacancies v on a.id = v.area_id /*присоединение таблицы вакансий по id региона*/\n",
        "                group by a.id /*группировка по id региона*/\n",
        "                having count(v.id) = 0 /*условие отсутствия вакансий в регионе*/\n",
        "                order by 2 desc\n",
        "                limit 1\n",
        "             '''"
      ]
    },
    {
      "cell_type": "code",
      "execution_count": 143,
      "id": "x1ikWbydrbf6",
      "metadata": {
        "id": "x1ikWbydrbf6"
      },
      "outputs": [
        {
          "data": {
            "text/html": [
              "<div>\n",
              "<style scoped>\n",
              "    .dataframe tbody tr th:only-of-type {\n",
              "        vertical-align: middle;\n",
              "    }\n",
              "\n",
              "    .dataframe tbody tr th {\n",
              "        vertical-align: top;\n",
              "    }\n",
              "\n",
              "    .dataframe thead th {\n",
              "        text-align: right;\n",
              "    }\n",
              "</style>\n",
              "<table border=\"1\" class=\"dataframe\">\n",
              "  <thead>\n",
              "    <tr style=\"text-align: right;\">\n",
              "      <th></th>\n",
              "      <th>Регион</th>\n",
              "      <th>Количество работодателей</th>\n",
              "      <th>Количество вакансий</th>\n",
              "    </tr>\n",
              "  </thead>\n",
              "  <tbody>\n",
              "    <tr>\n",
              "      <th>0</th>\n",
              "      <td>Россия</td>\n",
              "      <td>410</td>\n",
              "      <td>0</td>\n",
              "    </tr>\n",
              "  </tbody>\n",
              "</table>\n",
              "</div>"
            ],
            "text/plain": [
              "   Регион  Количество работодателей  Количество вакансий\n",
              "0  Россия                       410                    0"
            ]
          },
          "metadata": {},
          "output_type": "display_data"
        }
      ],
      "source": [
        "# результат запроса\n",
        "df = pd.read_sql_query(query_5_2, conn_str)\n",
        "display(df)"
      ]
    },
    {
      "attachments": {},
      "cell_type": "markdown",
      "id": "eb40f3e9",
      "metadata": {},
      "source": [
        "        Дополнительное исследование: лидеры по количеству работодателей и вакансий"
      ]
    },
    {
      "cell_type": "code",
      "execution_count": 182,
      "id": "249d3cc9",
      "metadata": {},
      "outputs": [],
      "source": [
        "# текст запроса\n",
        "query_5_2_add = f'''select \n",
        "                        a.name \"Регион\",\n",
        "                        count(distinct e.id) \"Количество работодателей\",\n",
        "                        count(distinct v.id) \"Количество вакансий\"\n",
        "                    from public.areas a\n",
        "                    left join public.employers e on a.id = e.area /*присоединение к таблице areas таблицы employers по id региона*/\n",
        "                    left join public.vacancies v on a.id = v.area_id /*присоединение таблицы вакансий по id региона*/\n",
        "                    group by a.id /*группировка по id региона*/\n",
        "                    order by 2 desc\n",
        "                    limit 5\n",
        "                 '''"
      ]
    },
    {
      "cell_type": "code",
      "execution_count": 183,
      "id": "6f9abfb8",
      "metadata": {},
      "outputs": [
        {
          "data": {
            "text/html": [
              "<div>\n",
              "<style scoped>\n",
              "    .dataframe tbody tr th:only-of-type {\n",
              "        vertical-align: middle;\n",
              "    }\n",
              "\n",
              "    .dataframe tbody tr th {\n",
              "        vertical-align: top;\n",
              "    }\n",
              "\n",
              "    .dataframe thead th {\n",
              "        text-align: right;\n",
              "    }\n",
              "</style>\n",
              "<table border=\"1\" class=\"dataframe\">\n",
              "  <thead>\n",
              "    <tr style=\"text-align: right;\">\n",
              "      <th></th>\n",
              "      <th>Регион</th>\n",
              "      <th>Количество работодателей</th>\n",
              "      <th>Количество вакансий</th>\n",
              "    </tr>\n",
              "  </thead>\n",
              "  <tbody>\n",
              "    <tr>\n",
              "      <th>0</th>\n",
              "      <td>Москва</td>\n",
              "      <td>5864</td>\n",
              "      <td>5333</td>\n",
              "    </tr>\n",
              "    <tr>\n",
              "      <th>1</th>\n",
              "      <td>Санкт-Петербург</td>\n",
              "      <td>2217</td>\n",
              "      <td>2851</td>\n",
              "    </tr>\n",
              "    <tr>\n",
              "      <th>2</th>\n",
              "      <td>Минск</td>\n",
              "      <td>1115</td>\n",
              "      <td>2112</td>\n",
              "    </tr>\n",
              "    <tr>\n",
              "      <th>3</th>\n",
              "      <td>Алматы</td>\n",
              "      <td>721</td>\n",
              "      <td>1892</td>\n",
              "    </tr>\n",
              "    <tr>\n",
              "      <th>4</th>\n",
              "      <td>Екатеринбург</td>\n",
              "      <td>609</td>\n",
              "      <td>1698</td>\n",
              "    </tr>\n",
              "  </tbody>\n",
              "</table>\n",
              "</div>"
            ],
            "text/plain": [
              "            Регион  Количество работодателей  Количество вакансий\n",
              "0           Москва                      5864                 5333\n",
              "1  Санкт-Петербург                      2217                 2851\n",
              "2            Минск                      1115                 2112\n",
              "3           Алматы                       721                 1892\n",
              "4     Екатеринбург                       609                 1698"
            ]
          },
          "metadata": {},
          "output_type": "display_data"
        }
      ],
      "source": [
        "# результат запроса\n",
        "df = pd.read_sql_query(query_5_2_add, conn_str)\n",
        "display(df)"
      ]
    },
    {
      "cell_type": "markdown",
      "id": "f2fe0acb-ab1a-4e15-9326-2560e22d73c1",
      "metadata": {
        "id": "f2fe0acb-ab1a-4e15-9326-2560e22d73c1"
      },
      "source": [
        "3. Для каждого работодателя посчитайте количество регионов, в которых он публикует свои вакансии. Отсортируйте результат по убыванию количества.\n"
      ]
    },
    {
      "cell_type": "code",
      "execution_count": 144,
      "id": "6271f8ad-bd2e-4196-ae4a-5b39c4c1010e",
      "metadata": {
        "id": "6271f8ad-bd2e-4196-ae4a-5b39c4c1010e"
      },
      "outputs": [],
      "source": [
        "# текст запроса\n",
        "query_5_3 = f'''select\n",
        "                    e.name \"Работодатель\",\n",
        "                    count(distinct v.area_id) \"Количество регионов с вакансиями\"\n",
        "                from public.employers e\n",
        "                join public.vacancies v on e.id = v.employer_id /*соединение таблиц employers и vacancies по id работодателя*/\n",
        "                group by e.name /*группировка по названию работодателя*/\n",
        "                order by 2 desc\n",
        "             '''\n"
      ]
    },
    {
      "cell_type": "code",
      "execution_count": 145,
      "id": "1EIvX3HasH4F",
      "metadata": {
        "id": "1EIvX3HasH4F"
      },
      "outputs": [
        {
          "data": {
            "text/html": [
              "<div>\n",
              "<style scoped>\n",
              "    .dataframe tbody tr th:only-of-type {\n",
              "        vertical-align: middle;\n",
              "    }\n",
              "\n",
              "    .dataframe tbody tr th {\n",
              "        vertical-align: top;\n",
              "    }\n",
              "\n",
              "    .dataframe thead th {\n",
              "        text-align: right;\n",
              "    }\n",
              "</style>\n",
              "<table border=\"1\" class=\"dataframe\">\n",
              "  <thead>\n",
              "    <tr style=\"text-align: right;\">\n",
              "      <th></th>\n",
              "      <th>Работодатель</th>\n",
              "      <th>Количество регионов с вакансиями</th>\n",
              "    </tr>\n",
              "  </thead>\n",
              "  <tbody>\n",
              "    <tr>\n",
              "      <th>0</th>\n",
              "      <td>Яндекс</td>\n",
              "      <td>181</td>\n",
              "    </tr>\n",
              "    <tr>\n",
              "      <th>1</th>\n",
              "      <td>Ростелеком</td>\n",
              "      <td>152</td>\n",
              "    </tr>\n",
              "    <tr>\n",
              "      <th>2</th>\n",
              "      <td>Спецремонт</td>\n",
              "      <td>116</td>\n",
              "    </tr>\n",
              "    <tr>\n",
              "      <th>3</th>\n",
              "      <td>Поляков Денис Иванович</td>\n",
              "      <td>88</td>\n",
              "    </tr>\n",
              "    <tr>\n",
              "      <th>4</th>\n",
              "      <td>ООО ЕФИН</td>\n",
              "      <td>71</td>\n",
              "    </tr>\n",
              "    <tr>\n",
              "      <th>...</th>\n",
              "      <td>...</td>\n",
              "      <td>...</td>\n",
              "    </tr>\n",
              "    <tr>\n",
              "      <th>14761</th>\n",
              "      <td>UniSol</td>\n",
              "      <td>1</td>\n",
              "    </tr>\n",
              "    <tr>\n",
              "      <th>14762</th>\n",
              "      <td>UNISTORY LLC</td>\n",
              "      <td>1</td>\n",
              "    </tr>\n",
              "    <tr>\n",
              "      <th>14763</th>\n",
              "      <td>UNIT6</td>\n",
              "      <td>1</td>\n",
              "    </tr>\n",
              "    <tr>\n",
              "      <th>14764</th>\n",
              "      <td>United Distribution</td>\n",
              "      <td>1</td>\n",
              "    </tr>\n",
              "    <tr>\n",
              "      <th>14765</th>\n",
              "      <td>UNITEL LLC</td>\n",
              "      <td>1</td>\n",
              "    </tr>\n",
              "  </tbody>\n",
              "</table>\n",
              "<p>14766 rows × 2 columns</p>\n",
              "</div>"
            ],
            "text/plain": [
              "                 Работодатель  Количество регионов с вакансиями\n",
              "0                      Яндекс                               181\n",
              "1                  Ростелеком                               152\n",
              "2                  Спецремонт                               116\n",
              "3      Поляков Денис Иванович                                88\n",
              "4                   ООО ЕФИН                                 71\n",
              "...                       ...                               ...\n",
              "14761                  UniSol                                 1\n",
              "14762            UNISTORY LLC                                 1\n",
              "14763                   UNIT6                                 1\n",
              "14764     United Distribution                                 1\n",
              "14765              UNITEL LLC                                 1\n",
              "\n",
              "[14766 rows x 2 columns]"
            ]
          },
          "metadata": {},
          "output_type": "display_data"
        }
      ],
      "source": [
        "# результат запроса\n",
        "df = pd.read_sql_query(query_5_3, conn_str)\n",
        "display(df)"
      ]
    },
    {
      "cell_type": "markdown",
      "id": "eab2206d-d95b-468b-8e5f-34381abf0ce7",
      "metadata": {
        "id": "eab2206d-d95b-468b-8e5f-34381abf0ce7"
      },
      "source": [
        "4. Напишите запрос для подсчёта количества работодателей, у которых не указана сфера деятельности. "
      ]
    },
    {
      "cell_type": "code",
      "execution_count": 146,
      "id": "80defb23-bfb1-4a18-8be6-bf36aa7165d5",
      "metadata": {
        "id": "80defb23-bfb1-4a18-8be6-bf36aa7165d5"
      },
      "outputs": [],
      "source": [
        "# текст запроса\n",
        "query_5_4 = f'''select\n",
        "                    count(e.id) \"Количество работодателей\"\n",
        "                from public.employers e\n",
        "                left join public.employers_industries ei on e.id = ei.employer_id /*присоединение к таблице employers таблицы employers_industries по id работодателя*/\n",
        "                where ei.industry_id is null /*условие отсутствия у работодателя записи о сфере деятельности*/\n",
        "             '''"
      ]
    },
    {
      "cell_type": "code",
      "execution_count": 185,
      "id": "Dp_yCx6ysQSu",
      "metadata": {
        "id": "Dp_yCx6ysQSu"
      },
      "outputs": [
        {
          "data": {
            "text/html": [
              "<div>\n",
              "<style scoped>\n",
              "    .dataframe tbody tr th:only-of-type {\n",
              "        vertical-align: middle;\n",
              "    }\n",
              "\n",
              "    .dataframe tbody tr th {\n",
              "        vertical-align: top;\n",
              "    }\n",
              "\n",
              "    .dataframe thead th {\n",
              "        text-align: right;\n",
              "    }\n",
              "</style>\n",
              "<table border=\"1\" class=\"dataframe\">\n",
              "  <thead>\n",
              "    <tr style=\"text-align: right;\">\n",
              "      <th></th>\n",
              "      <th>Количество работодателей</th>\n",
              "    </tr>\n",
              "  </thead>\n",
              "  <tbody>\n",
              "    <tr>\n",
              "      <th>0</th>\n",
              "      <td>8419</td>\n",
              "    </tr>\n",
              "  </tbody>\n",
              "</table>\n",
              "</div>"
            ],
            "text/plain": [
              "   Количество работодателей\n",
              "0                      8419"
            ]
          },
          "metadata": {},
          "output_type": "display_data"
        },
        {
          "data": {
            "text/plain": [
              "'Работодателей от общего количества в БД: 35.8%'"
            ]
          },
          "metadata": {},
          "output_type": "display_data"
        }
      ],
      "source": [
        "# результат запроса\n",
        "df = pd.read_sql_query(query_5_4, conn_str)\n",
        "display(df)\n",
        "display(f\"Работодателей от общего количества в БД: {round((df.iloc[0, 0] / df_emp.iloc[0, 0]) * 100, 1)}%\")"
      ]
    },
    {
      "attachments": {},
      "cell_type": "markdown",
      "id": "7909874f",
      "metadata": {},
      "source": [
        "        Дополнительное исследование: количество вакансий у работодателей без указания сферы деятельности"
      ]
    },
    {
      "cell_type": "code",
      "execution_count": 148,
      "id": "58e13557",
      "metadata": {},
      "outputs": [],
      "source": [
        "# текст запроса\n",
        "query_5_4_add = f'''select\n",
        "                        count(v.id) \"Количество вакансий\"\n",
        "                    from public.employers e\n",
        "                    join public.vacancies v on e.id = v.employer_id /*соединение таблиц employers и vacancies по id работодателя*/\n",
        "                    left join public.employers_industries ei on e.id = ei.employer_id /*присоединение таблицы employers_industries по id работодателя*/\n",
        "                    where ei.industry_id is null /*условие отсутствия у работодателя записи о сфере деятельности*/\n",
        "                 '''"
      ]
    },
    {
      "cell_type": "code",
      "execution_count": 149,
      "id": "3686539b",
      "metadata": {},
      "outputs": [
        {
          "data": {
            "text/html": [
              "<div>\n",
              "<style scoped>\n",
              "    .dataframe tbody tr th:only-of-type {\n",
              "        vertical-align: middle;\n",
              "    }\n",
              "\n",
              "    .dataframe tbody tr th {\n",
              "        vertical-align: top;\n",
              "    }\n",
              "\n",
              "    .dataframe thead th {\n",
              "        text-align: right;\n",
              "    }\n",
              "</style>\n",
              "<table border=\"1\" class=\"dataframe\">\n",
              "  <thead>\n",
              "    <tr style=\"text-align: right;\">\n",
              "      <th></th>\n",
              "      <th>Количество вакансий</th>\n",
              "    </tr>\n",
              "  </thead>\n",
              "  <tbody>\n",
              "    <tr>\n",
              "      <th>0</th>\n",
              "      <td>10084</td>\n",
              "    </tr>\n",
              "  </tbody>\n",
              "</table>\n",
              "</div>"
            ],
            "text/plain": [
              "   Количество вакансий\n",
              "0                10084"
            ]
          },
          "metadata": {},
          "output_type": "display_data"
        },
        {
          "data": {
            "text/plain": [
              "'Вакансий от общего количества в БД: 20.5%'"
            ]
          },
          "metadata": {},
          "output_type": "display_data"
        }
      ],
      "source": [
        "# результат запроса\n",
        "df = pd.read_sql_query(query_5_4_add, conn_str)\n",
        "display(df)\n",
        "display(f\"Вакансий от общего количества в БД: {round((df.iloc[0, 0] / df_vac.iloc[0, 0]) * 100, 1)}%\")"
      ]
    },
    {
      "cell_type": "markdown",
      "id": "0112af31-f6b0-4e3b-82ab-71296e752e5e",
      "metadata": {
        "id": "0112af31-f6b0-4e3b-82ab-71296e752e5e"
      },
      "source": [
        "5. Напишите запрос, чтобы узнать название компании, находящейся на третьем месте в алфавитном списке (по названию) компаний, у которых указано четыре сферы деятельности. "
      ]
    },
    {
      "cell_type": "code",
      "execution_count": 150,
      "id": "973b0cfc-a972-470a-8b4a-68744ef220c4",
      "metadata": {
        "id": "973b0cfc-a972-470a-8b4a-68744ef220c4"
      },
      "outputs": [],
      "source": [
        "# текст запроса\n",
        "query_5_5 = f'''select\n",
        "                    e.name \"Работодатель\"\n",
        "                from public.employers e\n",
        "                join public.employers_industries ei on e.id = ei.employer_id /*соединение таблиц employers и employers_industries по id работодателя*/\n",
        "                group by e.name /*группировка по названию работодателя*/\n",
        "                having count(ei.industry_id) = 4 /*условие по количеству сфер деятельности*/\n",
        "                order by 1\n",
        "                offset 2\n",
        "                limit 1\n",
        "             '''"
      ]
    },
    {
      "cell_type": "code",
      "execution_count": 151,
      "id": "xsPtpp8EsaED",
      "metadata": {
        "id": "xsPtpp8EsaED"
      },
      "outputs": [
        {
          "data": {
            "text/html": [
              "<div>\n",
              "<style scoped>\n",
              "    .dataframe tbody tr th:only-of-type {\n",
              "        vertical-align: middle;\n",
              "    }\n",
              "\n",
              "    .dataframe tbody tr th {\n",
              "        vertical-align: top;\n",
              "    }\n",
              "\n",
              "    .dataframe thead th {\n",
              "        text-align: right;\n",
              "    }\n",
              "</style>\n",
              "<table border=\"1\" class=\"dataframe\">\n",
              "  <thead>\n",
              "    <tr style=\"text-align: right;\">\n",
              "      <th></th>\n",
              "      <th>Работодатель</th>\n",
              "    </tr>\n",
              "  </thead>\n",
              "  <tbody>\n",
              "    <tr>\n",
              "      <th>0</th>\n",
              "      <td>2ГИС</td>\n",
              "    </tr>\n",
              "  </tbody>\n",
              "</table>\n",
              "</div>"
            ],
            "text/plain": [
              "  Работодатель\n",
              "0         2ГИС"
            ]
          },
          "metadata": {},
          "output_type": "display_data"
        }
      ],
      "source": [
        "# результат запроса\n",
        "df = pd.read_sql_query(query_5_5, conn_str)\n",
        "display(df)"
      ]
    },
    {
      "attachments": {},
      "cell_type": "markdown",
      "id": "e6a1f2df",
      "metadata": {},
      "source": [
        "        Дополнительное исследование: лидеры по количеству сфер деятельности"
      ]
    },
    {
      "cell_type": "code",
      "execution_count": 152,
      "id": "643a33e8",
      "metadata": {},
      "outputs": [],
      "source": [
        "# текст запроса\n",
        "query_5_5_add = f'''select\n",
        "                        e.name \"Работодатель\",\n",
        "                        count(ei.industry_id) \"Количество сфер деятельности\"\n",
        "                    from public.employers e\n",
        "                    join public.employers_industries ei on e.id = ei.employer_id /*соединение таблиц employers и employers_industries по id работодателя*/\n",
        "                    group by e.name /*группировка по названию работодателя*/\n",
        "                    order by 2 desc, 1\n",
        "                 '''"
      ]
    },
    {
      "cell_type": "code",
      "execution_count": 153,
      "id": "614f688b",
      "metadata": {},
      "outputs": [
        {
          "data": {
            "text/html": [
              "<div>\n",
              "<style scoped>\n",
              "    .dataframe tbody tr th:only-of-type {\n",
              "        vertical-align: middle;\n",
              "    }\n",
              "\n",
              "    .dataframe tbody tr th {\n",
              "        vertical-align: top;\n",
              "    }\n",
              "\n",
              "    .dataframe thead th {\n",
              "        text-align: right;\n",
              "    }\n",
              "</style>\n",
              "<table border=\"1\" class=\"dataframe\">\n",
              "  <thead>\n",
              "    <tr style=\"text-align: right;\">\n",
              "      <th></th>\n",
              "      <th>Работодатель</th>\n",
              "      <th>Количество сфер деятельности</th>\n",
              "    </tr>\n",
              "  </thead>\n",
              "  <tbody>\n",
              "    <tr>\n",
              "      <th>0</th>\n",
              "      <td>Модуль</td>\n",
              "      <td>16</td>\n",
              "    </tr>\n",
              "    <tr>\n",
              "      <th>1</th>\n",
              "      <td>Простые решения</td>\n",
              "      <td>11</td>\n",
              "    </tr>\n",
              "    <tr>\n",
              "      <th>2</th>\n",
              "      <td>Прайд</td>\n",
              "      <td>10</td>\n",
              "    </tr>\n",
              "    <tr>\n",
              "      <th>3</th>\n",
              "      <td>Энергия</td>\n",
              "      <td>10</td>\n",
              "    </tr>\n",
              "    <tr>\n",
              "      <th>4</th>\n",
              "      <td>Альфа</td>\n",
              "      <td>9</td>\n",
              "    </tr>\n",
              "    <tr>\n",
              "      <th>...</th>\n",
              "      <td>...</td>\n",
              "      <td>...</td>\n",
              "    </tr>\n",
              "    <tr>\n",
              "      <th>14951</th>\n",
              "      <td>Яркий кадр, Студия</td>\n",
              "      <td>1</td>\n",
              "    </tr>\n",
              "    <tr>\n",
              "      <th>14952</th>\n",
              "      <td>Яркий фотомаркет</td>\n",
              "      <td>1</td>\n",
              "    </tr>\n",
              "    <tr>\n",
              "      <th>14953</th>\n",
              "      <td>Ярославский завод Красный Маяк</td>\n",
              "      <td>1</td>\n",
              "    </tr>\n",
              "    <tr>\n",
              "      <th>14954</th>\n",
              "      <td>Яр, отель</td>\n",
              "      <td>1</td>\n",
              "    </tr>\n",
              "    <tr>\n",
              "      <th>14955</th>\n",
              "      <td>Яроцкий Е. В./ MoonX</td>\n",
              "      <td>1</td>\n",
              "    </tr>\n",
              "  </tbody>\n",
              "</table>\n",
              "<p>14956 rows × 2 columns</p>\n",
              "</div>"
            ],
            "text/plain": [
              "                         Работодатель  Количество сфер деятельности\n",
              "0                              Модуль                            16\n",
              "1                     Простые решения                            11\n",
              "2                               Прайд                            10\n",
              "3                             Энергия                            10\n",
              "4                               Альфа                             9\n",
              "...                               ...                           ...\n",
              "14951              Яркий кадр, Студия                             1\n",
              "14952                Яркий фотомаркет                             1\n",
              "14953  Ярославский завод Красный Маяк                             1\n",
              "14954                       Яр, отель                             1\n",
              "14955            Яроцкий Е. В./ MoonX                             1\n",
              "\n",
              "[14956 rows x 2 columns]"
            ]
          },
          "metadata": {},
          "output_type": "display_data"
        }
      ],
      "source": [
        "# результат запроса\n",
        "df = pd.read_sql_query(query_5_5_add, conn_str)\n",
        "display(df)"
      ]
    },
    {
      "cell_type": "markdown",
      "id": "3bfcfdaf-755d-4d2b-8ed8-326201dc07ab",
      "metadata": {
        "id": "3bfcfdaf-755d-4d2b-8ed8-326201dc07ab"
      },
      "source": [
        "6. С помощью запроса выясните, у какого количества работодателей в качестве сферы деятельности указана Разработка программного обеспечения.\n"
      ]
    },
    {
      "cell_type": "code",
      "execution_count": 154,
      "id": "ad3f270f-2991-47eb-929b-e8f88a55b0d1",
      "metadata": {
        "id": "ad3f270f-2991-47eb-929b-e8f88a55b0d1"
      },
      "outputs": [],
      "source": [
        "# текст запроса\n",
        "query_5_6 = f'''select\n",
        "                    count(*) \"Количество работодателей\"\n",
        "                from public.employers_industries ei\n",
        "                join public.employers e on ei.employer_id = e.id /*соединение таблиц employers_industries и employers по id работодателя*/\n",
        "                join public.industries i on ei.industry_id = i.id /*присоединение таблицы industries по id сферы деятельности*/\n",
        "                where i.name = 'Разработка программного обеспечения' /*условие по наименованию сферы деятельности*/\n",
        "             '''"
      ]
    },
    {
      "cell_type": "code",
      "execution_count": 155,
      "id": "H72qxWM0shPR",
      "metadata": {
        "id": "H72qxWM0shPR"
      },
      "outputs": [
        {
          "data": {
            "text/html": [
              "<div>\n",
              "<style scoped>\n",
              "    .dataframe tbody tr th:only-of-type {\n",
              "        vertical-align: middle;\n",
              "    }\n",
              "\n",
              "    .dataframe tbody tr th {\n",
              "        vertical-align: top;\n",
              "    }\n",
              "\n",
              "    .dataframe thead th {\n",
              "        text-align: right;\n",
              "    }\n",
              "</style>\n",
              "<table border=\"1\" class=\"dataframe\">\n",
              "  <thead>\n",
              "    <tr style=\"text-align: right;\">\n",
              "      <th></th>\n",
              "      <th>Количество работодателей</th>\n",
              "    </tr>\n",
              "  </thead>\n",
              "  <tbody>\n",
              "    <tr>\n",
              "      <th>0</th>\n",
              "      <td>3553</td>\n",
              "    </tr>\n",
              "  </tbody>\n",
              "</table>\n",
              "</div>"
            ],
            "text/plain": [
              "   Количество работодателей\n",
              "0                      3553"
            ]
          },
          "metadata": {},
          "output_type": "display_data"
        }
      ],
      "source": [
        "# результат запроса\n",
        "df = pd.read_sql_query(query_5_6, conn_str)\n",
        "display(df)"
      ]
    },
    {
      "attachments": {},
      "cell_type": "markdown",
      "id": "28a656c6",
      "metadata": {},
      "source": [
        "        Дополнительное исследование: наиболее популярные сферы деятельности среди работодателей"
      ]
    },
    {
      "cell_type": "code",
      "execution_count": 156,
      "id": "535c26dd",
      "metadata": {},
      "outputs": [],
      "source": [
        "# текст запроса\n",
        "query_5_6_add = f'''select\n",
        "                        i.name \"Сфера деятельности\",\n",
        "                        count(*) \"Количество работодателей\"\n",
        "                    from public.employers_industries ei\n",
        "                    join public.employers e on ei.employer_id = e.id /*соединение таблиц employers_industries и employers по id работодателя*/\n",
        "                    join public.industries i on ei.industry_id = i.id /*присоединение таблицы industries по id сферы деятельности*/\n",
        "                    group by i.name /*группировка по сфере деятельности*/\n",
        "                    order by 2 desc\n",
        "                    limit 5\n",
        "                 '''"
      ]
    },
    {
      "cell_type": "code",
      "execution_count": 157,
      "id": "3f5aa34f",
      "metadata": {},
      "outputs": [
        {
          "data": {
            "text/html": [
              "<div>\n",
              "<style scoped>\n",
              "    .dataframe tbody tr th:only-of-type {\n",
              "        vertical-align: middle;\n",
              "    }\n",
              "\n",
              "    .dataframe tbody tr th {\n",
              "        vertical-align: top;\n",
              "    }\n",
              "\n",
              "    .dataframe thead th {\n",
              "        text-align: right;\n",
              "    }\n",
              "</style>\n",
              "<table border=\"1\" class=\"dataframe\">\n",
              "  <thead>\n",
              "    <tr style=\"text-align: right;\">\n",
              "      <th></th>\n",
              "      <th>Сфера деятельности</th>\n",
              "      <th>Количество работодателей</th>\n",
              "    </tr>\n",
              "  </thead>\n",
              "  <tbody>\n",
              "    <tr>\n",
              "      <th>0</th>\n",
              "      <td>Разработка программного обеспечения</td>\n",
              "      <td>3553</td>\n",
              "    </tr>\n",
              "    <tr>\n",
              "      <th>1</th>\n",
              "      <td>Системная интеграция,  автоматизации технологи...</td>\n",
              "      <td>2993</td>\n",
              "    </tr>\n",
              "    <tr>\n",
              "      <th>2</th>\n",
              "      <td>Интернет-компания (поисковики, платежные систе...</td>\n",
              "      <td>1675</td>\n",
              "    </tr>\n",
              "    <tr>\n",
              "      <th>3</th>\n",
              "      <td>Маркетинговые, рекламные, BTL, дизайнерские, E...</td>\n",
              "      <td>798</td>\n",
              "    </tr>\n",
              "    <tr>\n",
              "      <th>4</th>\n",
              "      <td>Консалтинговые услуги</td>\n",
              "      <td>662</td>\n",
              "    </tr>\n",
              "  </tbody>\n",
              "</table>\n",
              "</div>"
            ],
            "text/plain": [
              "                                  Сфера деятельности  Количество работодателей\n",
              "0                Разработка программного обеспечения                      3553\n",
              "1  Системная интеграция,  автоматизации технологи...                      2993\n",
              "2  Интернет-компания (поисковики, платежные систе...                      1675\n",
              "3  Маркетинговые, рекламные, BTL, дизайнерские, E...                       798\n",
              "4                              Консалтинговые услуги                       662"
            ]
          },
          "metadata": {},
          "output_type": "display_data"
        }
      ],
      "source": [
        "# результат запроса\n",
        "df = pd.read_sql_query(query_5_6_add, conn_str)\n",
        "display(df)"
      ]
    },
    {
      "cell_type": "markdown",
      "id": "7b02bb86-0546-40fb-94a4-242f050a5c57",
      "metadata": {
        "id": "7b02bb86-0546-40fb-94a4-242f050a5c57"
      },
      "source": [
        "7. Для компании «Яндекс» выведите список регионов-миллионников, в которых представлены вакансии компании, вместе с количеством вакансий в этих регионах. Также добавьте строку Total с общим количеством вакансий компании. Результат отсортируйте по возрастанию количества.\n",
        "\n",
        "Список городов-милионников надо взять [отсюда](https://ru.wikipedia.org/wiki/%D0%93%D0%BE%D1%80%D0%BE%D0%B4%D0%B0-%D0%BC%D0%B8%D0%BB%D0%BB%D0%B8%D0%BE%D0%BD%D0%B5%D1%80%D1%8B_%D0%A0%D0%BE%D1%81%D1%81%D0%B8%D0%B8). \n",
        "\n",
        "Если возникнут трудности с этим задание посмотрите материалы модуля  PYTHON-17. Как получать данные из веб-источников и API. "
      ]
    },
    {
      "cell_type": "code",
      "execution_count": 158,
      "id": "ZdfrL6gIs1Pn",
      "metadata": {
        "id": "ZdfrL6gIs1Pn"
      },
      "outputs": [
        {
          "data": {
            "text/plain": [
              "[    0                                                  1\n",
              " 0 NaN  Информация в этой статье или некоторых её разд...,\n",
              "      №            Город Население, тыс. чел.  (на 1 января 2023 года)   \n",
              " 0    1           Москва                                        13 098  \\\n",
              " 1    2  Санкт-Петербург                                         5 598   \n",
              " 2    3      Новосибирск                                         1 635   \n",
              " 3    4     Екатеринбург                                         1 539   \n",
              " 4    5           Казань                                         1 315   \n",
              " 5    6  Нижний Новгород                                           NaN   \n",
              " 6    7       Красноярск                                         1 197   \n",
              " 7    8        Челябинск                                         1 183   \n",
              " 8    9           Самара                                           NaN   \n",
              " 9   10              Уфа                                           NaN   \n",
              " 10  11   Ростов-на-Дону                                           NaN   \n",
              " 11  12             Омск                                           NaN   \n",
              " 12  13        Краснодар                                         1 121   \n",
              " 13  14       Воронеж[a]                                           NaN   \n",
              " 14  15            Пермь                                         1 027   \n",
              " 15  16        Волгоград                                         1 026   \n",
              " \n",
              "    Население, тыс. чел.  (итоги переписи  2021 года)[5]   \n",
              " 0                                              13 010    \\\n",
              " 1                                               5 602     \n",
              " 2                                               1 634     \n",
              " 3                                               1 544     \n",
              " 4                                               1 309     \n",
              " 5                                               1 226     \n",
              " 6                                               1 188     \n",
              " 7                                               1 190     \n",
              " 8                                               1 173     \n",
              " 9                                               1 145     \n",
              " 10                                              1 142     \n",
              " 11                                              1 126     \n",
              " 12                                              1 099     \n",
              " 13                                              1 058     \n",
              " 14                                              1 034     \n",
              " 15                                              1 028     \n",
              " \n",
              "    Прирост  относительно  переписи-2010   \n",
              " 0                                 13,1%  \\\n",
              " 1                                 14,8%   \n",
              " 2                                 10,9%   \n",
              " 3                                 14,4%   \n",
              " 4                                 14,4%   \n",
              " 5                                   NaN   \n",
              " 6                                 21,6%   \n",
              " 7                                  5,3%   \n",
              " 8                                  0,3%   \n",
              " 9                                  7,8%   \n",
              " 10                                 4,9%   \n",
              " 11                                  NaN   \n",
              " 12                                43,8%   \n",
              " 13                                18,9%   \n",
              " 14                                 4,3%   \n",
              " 15                                 0,7%   \n",
              " \n",
              "    Население, тыс. чел. (итоги переписи  2010 года)[6]  \n",
              " 0                                              11 504   \n",
              " 1                                               4 880   \n",
              " 2                                               1 474   \n",
              " 3                                               1 350   \n",
              " 4                                               1 144   \n",
              " 5                                               1 251   \n",
              " 6                                                 977   \n",
              " 7                                               1 130   \n",
              " 8                                               1 169   \n",
              " 9                                               1 062   \n",
              " 10                                              1 089   \n",
              " 11                                              1 166   \n",
              " 12                                                764   \n",
              " 13                                                890   \n",
              " 14                                                991   \n",
              " 15                                              1 021   ,\n",
              "    Место    Город  Население, тыс. чел. (перепись-2021)[5]   \n",
              " 0     17  Саратов                                      901  \\\n",
              " 1     18   Тюмень                                      847   \n",
              " \n",
              "   Прирост относительно переписи-2010  Население, тыс. чел. (перепись-2010)[6]  \n",
              " 0                              7,5 %                                      838  \n",
              " 1                             45,5 %                                      582  ,\n",
              "                 Место                                              Город   \n",
              "    Unnamed: 0_level_1      Города-мультимиллионеры (свыше 2 млн жителей)   \n",
              " 0                 1.0                                             Москва  \\\n",
              " 1                 2.0                                    Санкт-Петербург   \n",
              " 2                 NaN                Города-миллионеры (1—2 млн жителей)   \n",
              " 3                 3.0                                        Новосибирск   \n",
              " 4                 4.0                                       Екатеринбург   \n",
              " 5                 5.0                                             Казань   \n",
              " 6                 6.0                                    Нижний Новгород   \n",
              " 7                 7.0                                          Челябинск   \n",
              " 8                 8.0                                         Красноярск   \n",
              " 9                 9.0                                             Самара   \n",
              " 10               10.0                                                Уфа   \n",
              " 11               11.0                                     Ростов-на-Дону   \n",
              " 12               12.0                                               Омск   \n",
              " 13               13.0                                          Краснодар   \n",
              " 14               14.0                                            Воронеж   \n",
              " 15               15.0                                              Пермь   \n",
              " 16               16.0                                          Волгоград   \n",
              " 17                NaN        Города-субмиллионеры (800—999 тыс. жителей)   \n",
              " 18               17.0                                            Саратов   \n",
              " 19               18.0                                             Тюмень   \n",
              " 20                NaN    Итого численность населения крупнейших городов:   \n",
              " 21                NaN  Доля численности населения крупнейших городов ...   \n",
              " 22                NaN  Доля численности населения крупнейших городов ...   \n",
              " \n",
              "    Год достижения численности 1 млн жителей   \n",
              "                          Unnamed: 2_level_1   \n",
              " 0                                      1897  \\\n",
              " 1      1890 (до 1919), 1922 (до 1943), 1945   \n",
              " 2                                       NaN   \n",
              " 3                                      1962   \n",
              " 4                                      1967   \n",
              " 5                                      1979   \n",
              " 6                                      1962   \n",
              " 7                                      1976   \n",
              " 8                                      2012   \n",
              " 9                                      1967   \n",
              " 10                                     1980   \n",
              " 11                                     1987   \n",
              " 12                                     1978   \n",
              " 13                                  2018[b]   \n",
              " 14                                     2012   \n",
              " 15                     1979 (до 2004), 2011   \n",
              " 16     1989 (до 1999), 2002 (до 2005), 2010   \n",
              " 17                                      NaN   \n",
              " 18                                        —   \n",
              " 19                                        —   \n",
              " 20                                        —   \n",
              " 21                                        —   \n",
              " 22                                        —   \n",
              " \n",
              "    Население, тыс. чел. (перепись-2021)[5]     Экономический район   \n",
              "                         Unnamed: 3_level_1      Unnamed: 4_level_1   \n",
              " 0                                   13 010             Центральный  \\\n",
              " 1                                     5602         Северо-Западный   \n",
              " 2                                      NaN                     NaN   \n",
              " 3                                     1634       Западно-Сибирский   \n",
              " 4                                     1544               Уральский   \n",
              " 5                                     1309              Поволжский   \n",
              " 6                                     1226           Волго-Вятский   \n",
              " 7                                     1190               Уральский   \n",
              " 8                                     1188      Восточно-Сибирский   \n",
              " 9                                     1173              Поволжский   \n",
              " 10                                    1145               Уральский   \n",
              " 11                                    1142       Северо-Кавказский   \n",
              " 12                                    1126       Западно-Сибирский   \n",
              " 13                                    1099       Северо-Кавказский   \n",
              " 14                                    1058  Центрально-Чернозёмный   \n",
              " 15                                    1034               Уральский   \n",
              " 16                                    1028              Поволжский   \n",
              " 17                                     NaN                     NaN   \n",
              " 18                                     901              Поволжский   \n",
              " 19                                     847       Западно-Сибирский   \n",
              " 20                                  37 256                     NaN   \n",
              " 21                                 25,31 %                     NaN   \n",
              " 22                                 33,85 %                     NaN   \n",
              " \n",
              "     Федеральный округ  \n",
              "    Unnamed: 5_level_1  \n",
              " 0         Центральный  \n",
              " 1     Северо-Западный  \n",
              " 2                 NaN  \n",
              " 3           Сибирский  \n",
              " 4           Уральский  \n",
              " 5         Приволжский  \n",
              " 6         Приволжский  \n",
              " 7           Уральский  \n",
              " 8           Сибирский  \n",
              " 9         Приволжский  \n",
              " 10        Приволжский  \n",
              " 11              Южный  \n",
              " 12          Сибирский  \n",
              " 13              Южный  \n",
              " 14        Центральный  \n",
              " 15        Приволжский  \n",
              " 16              Южный  \n",
              " 17                NaN  \n",
              " 18        Приволжский  \n",
              " 19          Уральский  \n",
              " 20                NaN  \n",
              " 21                NaN  \n",
              " 22                NaN  ,\n",
              "     Место                              Агломерация   \n",
              " 0       1                               Московская  \\\n",
              " 1       2                      Санкт-Петербургская   \n",
              " 2       3                Самарско-Тольяттинская[d]   \n",
              " 3       4                         Екатеринбургская   \n",
              " 4       5                            Нижегородская   \n",
              " 5       6                               Ростовская   \n",
              " 6       7                            Новосибирская   \n",
              " 7    8—10                            Волгоградская   \n",
              " 8    8—10                                Казанская   \n",
              " 9    8—10                              Челябинская   \n",
              " 10     11                                   Омская   \n",
              " 11  12—14                            Краснодарская   \n",
              " 12  12—14                                 Уфимская   \n",
              " 13  12—14           Новокузнецкая (Кузбасская)*[d]   \n",
              " 14  15—18                             Красноярская   \n",
              " 15  15—18                                 Пермская   \n",
              " 16  15—18                             Саратовская*   \n",
              " 17  15—18                              Воронежская   \n",
              " 18  19—22    Иркутская (Иркутско-Черемховская)*[d]   \n",
              " 19  19—22  Набережночелнинская (Нижне-Камская)*[d]   \n",
              " 20  19—22                      Владивостокская*[d]   \n",
              " 21  19—22               Тульско-Новомосковская*[d]   \n",
              " 22     23                  Ульяновская агломерация   \n",
              " \n",
              "    Население, урбанизированное/субурбанизированное-тяготеющее, тыс. чел. (2010)[9]  \n",
              " 0                           16 023 (14 700[c])/17 316                               \n",
              " 1                                 5681 (5400[c])/6230                               \n",
              " 2                               2300[c]; 2555/3170[e]                               \n",
              " 3                                           2054/2054                               \n",
              " 4                                           1928/2097                               \n",
              " 5                                  1714/2096; 2570[f]                               \n",
              " 6              1736/(1928) 1997; 1645/2070; 1887/2050                               \n",
              " 7                                           1416/1517                               \n",
              " 8                                           1352/1560                               \n",
              " 9                                           1322/1535                               \n",
              " 10                                          1182/1261                               \n",
              " 11                                          1046/1344                               \n",
              " 12                                          1087/1235                               \n",
              " 13                                          1096/1206                               \n",
              " 14                                          1061/1155                               \n",
              " 15                                          1044/1144                               \n",
              " 16                                          1070/1117                               \n",
              " 17                                          1015/1360                               \n",
              " 18                                          1041/1081                               \n",
              " 19                                       1010/1125[c]                               \n",
              " 20                              1010[c]; 1125/1199[g]                               \n",
              " 21                                            1030[c]                               \n",
              " 22                                            1008[c]                               ,\n",
              "     0                                                  1\n",
              " 0 NaN  В разделе не хватает ссылок на источники (см. ...,\n",
              "     0                                                  1\n",
              " 0 NaN  В разделе не хватает ссылок на источники (см. ...,\n",
              "       1764[10]    1765[11]    1780[11]    1789[11]    1800[10]    1811[11]   \n",
              " 0      149 700    ↗150 300    ↗174 800    ↗217 900    ↗220 200    ↗335 600  \\\n",
              " 1     1825[11]    1833[11]    1837[11]    1840[11]    1850[10]    1852[11]   \n",
              " 2     ↗424 700    ↗442 900    ↗468 800    ↗470 200    ↗487 300    ↗532 200   \n",
              " 3     1870[11]    1882[11]    1891[11]    1897[12]    1900[10]    1901[11]   \n",
              " 4     ↗668 000    ↗928 000  ↗1 033 600  ↗1 264 920  ↗1 418 000  ↗1 439 600   \n",
              " 5     1914[11]    1915[10]    1916[10]    1917[10]    1918[10]    1919[10]   \n",
              " 6   ↗2 118 500  ↗2 314 500  ↗2 415 700  ↘2 300 000  ↘1 469 000    ↘900 000   \n",
              " 7     1921[10]    1922[10]    1923[10]    1924[10]    1925[10]    1926[13]   \n",
              " 8     ↗830 000    ↗960 000  ↗1 093 000  ↗1 221 000  ↗1 379 000  ↗1 560 122   \n",
              " 9     1930[10]    1931[15]    1935[10]    1937[13]    1939[16]    1940[10]   \n",
              " 10  ↗2 009 500  ↗2 236 515  ↗2 715 700  ↗2 814 474  ↗3 191 304  ↘2 920 000   \n",
              " 11    1942[10]    1943[10]    1944[10]    1945[10]    1946[10]    1947[10]   \n",
              " 12  ↘2 432 000    ↘622 000    ↘546 000    ↗927 000  ↗1 541 000  ↗1 920 000   \n",
              " 13    1949[10]    1950[10]    1955[10]    1956[17]    1959[18]    1960[10]   \n",
              " 14  ↗2 218 000  ↗2 258 000  ↗2 797 000  ↗2 814 000  ↗3 321 196  ↗3 432 000   \n",
              " 15    1965[10]    1967[11]    1970[19]    1973[11]    1975[20]    1976[11]   \n",
              " 16  ↗3 777 200  ↘3 296 000  ↗3 949 501  ↘3 679 000  ↗4 418 000  ↘3 915 000   \n",
              " 17    1980[10]    1981[10]    1982[10]    1983[10]    1984[10]    1985[10]   \n",
              " 18  ↗4 635 200  ↗4 669 400  ↗4 711 200  ↗4 762 100  ↗4 806 400  ↗4 844 200   \n",
              " 19    1987[10]    1988[10]    1989[22]    1990[23]    1991[23]    1992[23]   \n",
              " 20  ↗4 931 200  ↗4 986 900  ↗5 023 506  ↘5 002 444  ↗5 007 469  ↘4 986 405   \n",
              " 21    1994[23]    1995[23]    1996[23]    1997[23]    1998[23]    1999[23]   \n",
              " 22  ↘4 881 563  ↘4 845 407  ↘4 820 213  ↘4 806 641  ↘4 783 982  ↘4 770 897   \n",
              " 23    2001[23]    2002[24]    2003[23]    2004[23]    2005[23]    2006[23]   \n",
              " 24  ↘4 714 844  ↘4 661 219  ↘4 656 474  ↘4 624 083  ↘4 600 000  ↘4 580 620   \n",
              " 25    2008[23]    2009[23]    2010[25]    2011[23]    2012[26]    2013[27]   \n",
              " 26  ↘4 568 047  ↗4 581 854  ↗4 879 566  ↗4 899 344  ↗4 953 219  ↗5 028 000   \n",
              " 27    2015[29]    2016[30]    2017[31]    2018[32]    2019[33]    2020[34]   \n",
              " 28  ↗5 191 690  ↗5 225 690  ↗5 281 579  ↗5 351 935  ↗5 383 890  ↗5 398 064   \n",
              " 29    2022[36]    2023[37]         NaN         NaN         NaN         NaN   \n",
              " 30  ↗5 607 916  ↘5 598 486         NaN         NaN         NaN         NaN   \n",
              " \n",
              "       1817[11]  \n",
              " 0     ↗363 900  \n",
              " 1     1863[11]  \n",
              " 2     ↗539 500  \n",
              " 3     1910[11]  \n",
              " 4   ↗1 905 600  \n",
              " 5     1920[10]  \n",
              " 6     ↘740 000  \n",
              " 7     1928[14]  \n",
              " 8   ↗1 688 300  \n",
              " 9     1941[10]  \n",
              " 10  ↗2 992 000  \n",
              " 11    1948[10]  \n",
              " 12  ↗1 998 000  \n",
              " 13    1962[11]  \n",
              " 14  ↘3 036 000  \n",
              " 15    1979[21]  \n",
              " 16  ↗4 588 183  \n",
              " 17    1986[10]  \n",
              " 18  ↗4 882 200  \n",
              " 19    1993[23]  \n",
              " 20  ↘4 942 891  \n",
              " 21    2000[23]  \n",
              " 22  ↘4 741 923  \n",
              " 23    2007[23]  \n",
              " 24  ↘4 571 184  \n",
              " 25    2014[28]  \n",
              " 26  ↗5 131 942  \n",
              " 27    2021[35]  \n",
              " 28  ↗5 601 911  \n",
              " 29         NaN  \n",
              " 30         NaN  ,\n",
              "            1350         1400         1600         1638         1710   \n",
              " 0        30 000      ↗40 000     ↗100 000     ↗200 000     ↘160 000  \\\n",
              " 1          1750         1775     1785[38]         1800     1811[38]   \n",
              " 2      ↘130 000     ↗161 000     ↗188 700     ↗250 000     ↗270 200   \n",
              " 3      1830[38]     1835[38]     1840[38]     1847[38]         1852   \n",
              " 4      ↗305 600     ↗335 800     ↗349 100     ↗353 300     ↗373 800   \n",
              " 5      1859[38]     1863[38]         1864         1868         1871   \n",
              " 6      ↗379 300     ↗462 500     ↘351 600     ↗416 400     ↗601 969   \n",
              " 7          1891     1897[39]         1900     1902[38]     1907[38]   \n",
              " 8      ↗822 400   ↗1 039 000   ↗1 175 000   ↘1 174 700   ↗1 345 700   \n",
              " 9      1913[38]     1914[38]         1915     1917[38]         1920   \n",
              " 10   ↘1 563 100   ↗1 762 700   ↗1 817 000   ↗1 854 400   ↘1 028 200   \n",
              " 11     1928[40]     1931[15]         1936     1937[13]     1939[41]   \n",
              " 12   ↗2 127 200   ↗2 781 340   ↗3 641 500   ↗3 798 078   ↗4 131 633   \n",
              " 13     1943[42]     1945[42]     1956[17]     1959[43]     1963[44]   \n",
              " 14   ↗2 743 600   ↗3 361 000   ↗4 839 000   ↗5 045 905   ↗6 354 000   \n",
              " 15     1972[38]     1973[38]     1975[20]     1976[46]     1979[47]   \n",
              " 16   ↗7 151 000   ↗7 255 000   ↗7 862 000   ↘7 734 000   ↗7 830 509   \n",
              " 17     1986[38]     1987[50]     1989[51]     1990[23]     1991[23]   \n",
              " 18   ↘8 527 000   ↗8 815 000   ↘8 769 117   ↗8 880 124   ↗9 017 415   \n",
              " 19     1994[23]     1995[23]     1996[23]     1997[23]     1998[23]   \n",
              " 20   ↗9 066 612   ↗9 085 457   ↗9 246 727   ↗9 411 236   ↗9 604 297   \n",
              " 21     2001[23]     2002[24]     2003[23]     2004[23]     2005[23]   \n",
              " 22  ↗10 114 203  ↗10 382 754  ↗10 386 903  ↗10 535 681  ↗10 726 429   \n",
              " 23     2008[23]     2009[23]     2010[25]     2011[23]     2012[23]   \n",
              " 24  ↗11 186 851  ↗11 281 631  ↗11 503 501  ↗11 776 764  ↗11 856 578   \n",
              " 25     2015[29]     2016[30]     2017[31]     2018[32]     2019[33]   \n",
              " 26  ↗12 197 596  ↗12 330 126  ↗12 380 664  ↗12 506 468  ↗12 615 279   \n",
              " 27     2022[36]     2023[37]          NaN          NaN          NaN   \n",
              " 28  ↗13 015 126  ↗13 097 539          NaN          NaN          NaN   \n",
              " \n",
              "            1725         1738  \n",
              " 0      ↘145 000     ↘138 400  \n",
              " 1          1813     1825[38]  \n",
              " 2      ↘215 000     ↗241 500  \n",
              " 3      1856[38]     1858[38]  \n",
              " 4      ↘368 800     ↗377 800  \n",
              " 5      1882[38]         1886  \n",
              " 6      ↗753 500     ↘753 459  \n",
              " 7          1908         1912  \n",
              " 8    ↗1 359 200   ↗1 617 157  \n",
              " 9      1923[38]     1926[13]  \n",
              " 10   ↗1 542 900   ↗1 995 252  \n",
              " 11     1941[42]     1942[42]  \n",
              " 12   ↗4 345 400   ↘2 361 500  \n",
              " 13     1967[38]     1970[45]  \n",
              " 14   ↗6 422 000   ↗6 941 961  \n",
              " 15     1982[48]     1985[49]  \n",
              " 16   ↗8 111 000   ↗8 652 000  \n",
              " 17     1992[23]     1993[23]  \n",
              " 18   ↗9 067 808   ↘9 066 025  \n",
              " 19     1999[23]     2000[23]  \n",
              " 20   ↗9 783 242   ↗9 932 932  \n",
              " 21     2006[23]     2007[23]  \n",
              " 22  ↗10 923 762  ↗11 091 428  \n",
              " 23     2013[27]     2014[28]  \n",
              " 24  ↗11 979 529  ↗12 108 257  \n",
              " 25     2020[34]     2021[35]  \n",
              " 26  ↗12 678 079  ↗13 010 112  \n",
              " 27          NaN          NaN  \n",
              " 28          NaN          NaN  ,\n",
              "                                        Города России  Города России.1\n",
              " 0  Список городов России с населением более 1 млн...              NaN,\n",
              "                             Города-миллионеры России   \n",
              " 0  1 Москва 2 Санкт-Петербург 3 Новосибирск 4 Ека...  \\\n",
              " 1  Порядковые места распределены по численности н...   \n",
              " \n",
              "                           Города-миллионеры России.1  \n",
              " 0                                                NaN  \n",
              " 1  Порядковые места распределены по численности н...  ,\n",
              "              Городские агломерации-миллионеры России   \n",
              " 0  Московская Санкт-Петербургская Самарско-Тольят...  \\\n",
              " \n",
              "    Городские агломерации-миллионеры России.1  \n",
              " 0                                        NaN  ]"
            ]
          },
          "metadata": {},
          "output_type": "display_data"
        }
      ],
      "source": [
        "# код для получения списка городов-милионников\n",
        "url = 'https://ru.wikipedia.org/wiki/%D0%93%D0%BE%D1%80%D0%BE%D0%B4%D0%B0-%D0%BC%D0%B8%D0%BB%D0%BB%D0%B8%D0%BE%D0%BD%D0%B5%D1%80%D1%8B_%D0%A0%D0%BE%D1%81%D1%81%D0%B8%D0%B8'\n",
        "tables = pd.read_html(url) ## чтение HTML-таблиц в список из DataFrame\n",
        "display(tables)"
      ]
    },
    {
      "cell_type": "code",
      "execution_count": 159,
      "id": "4d6e39e7",
      "metadata": {},
      "outputs": [
        {
          "data": {
            "text/plain": [
              "('Москва',\n",
              " 'Санкт-Петербург',\n",
              " 'Новосибирск',\n",
              " 'Екатеринбург',\n",
              " 'Казань',\n",
              " 'Нижний Новгород',\n",
              " 'Красноярск',\n",
              " 'Челябинск',\n",
              " 'Самара',\n",
              " 'Уфа',\n",
              " 'Ростов-на-Дону',\n",
              " 'Омск',\n",
              " 'Краснодар',\n",
              " 'Воронеж',\n",
              " 'Пермь',\n",
              " 'Волгоград')"
            ]
          },
          "metadata": {},
          "output_type": "display_data"
        }
      ],
      "source": [
        "cities = tuple(tables[1].replace({'Город': {'Воронеж[a]': 'Воронеж'}})['Город'].values) # преобразование списка в кортеж\n",
        "display(cities)"
      ]
    },
    {
      "cell_type": "code",
      "execution_count": 160,
      "id": "5a0e32a4-e68a-4365-8a39-2fe24c542c36",
      "metadata": {
        "id": "5a0e32a4-e68a-4365-8a39-2fe24c542c36"
      },
      "outputs": [],
      "source": [
        "# текст запроса\n",
        "query_5_7 = f'''(select \n",
        "                    a.name \"Город\",\n",
        "                    count(*) \"Количество вакансий\"\n",
        "                from public.vacancies v\n",
        "                join public.employers e on e.id = v.employer_id /*соединение таблиц vacancies и employers по id работодателя*/\n",
        "                join public.areas a on a.id = v.area_id /*присоединение таблицы areas по id региона*/\n",
        "                where e.name = 'Яндекс' and a.name in {cities} /*условие по наименованию работодателя и перечню городов-миллионников*/\n",
        "                group by a.name /*группировка по названию города*/\n",
        "                )\n",
        "\n",
        "                union all /*объединение результатов двух запросов*/\n",
        "\n",
        "                (select \n",
        "                    'Total',\n",
        "                    count(*)\n",
        "                from public.vacancies v\n",
        "                join public.employers e on e.id = v.employer_id\n",
        "                join public.areas a on a.id = v.area_id\n",
        "                where e.name = 'Яндекс' and a.name in {cities}\n",
        "                )\n",
        "\n",
        "                order by 2 /*сортировка итоговой таблицы*/\n",
        "             '''"
      ]
    },
    {
      "cell_type": "code",
      "execution_count": 161,
      "id": "ttPhiO1rsvPq",
      "metadata": {
        "id": "ttPhiO1rsvPq"
      },
      "outputs": [
        {
          "data": {
            "text/html": [
              "<div>\n",
              "<style scoped>\n",
              "    .dataframe tbody tr th:only-of-type {\n",
              "        vertical-align: middle;\n",
              "    }\n",
              "\n",
              "    .dataframe tbody tr th {\n",
              "        vertical-align: top;\n",
              "    }\n",
              "\n",
              "    .dataframe thead th {\n",
              "        text-align: right;\n",
              "    }\n",
              "</style>\n",
              "<table border=\"1\" class=\"dataframe\">\n",
              "  <thead>\n",
              "    <tr style=\"text-align: right;\">\n",
              "      <th></th>\n",
              "      <th>Город</th>\n",
              "      <th>Количество вакансий</th>\n",
              "    </tr>\n",
              "  </thead>\n",
              "  <tbody>\n",
              "    <tr>\n",
              "      <th>0</th>\n",
              "      <td>Омск</td>\n",
              "      <td>21</td>\n",
              "    </tr>\n",
              "    <tr>\n",
              "      <th>1</th>\n",
              "      <td>Челябинск</td>\n",
              "      <td>22</td>\n",
              "    </tr>\n",
              "    <tr>\n",
              "      <th>2</th>\n",
              "      <td>Красноярск</td>\n",
              "      <td>23</td>\n",
              "    </tr>\n",
              "    <tr>\n",
              "      <th>3</th>\n",
              "      <td>Волгоград</td>\n",
              "      <td>24</td>\n",
              "    </tr>\n",
              "    <tr>\n",
              "      <th>4</th>\n",
              "      <td>Пермь</td>\n",
              "      <td>25</td>\n",
              "    </tr>\n",
              "    <tr>\n",
              "      <th>5</th>\n",
              "      <td>Казань</td>\n",
              "      <td>25</td>\n",
              "    </tr>\n",
              "    <tr>\n",
              "      <th>6</th>\n",
              "      <td>Ростов-на-Дону</td>\n",
              "      <td>25</td>\n",
              "    </tr>\n",
              "    <tr>\n",
              "      <th>7</th>\n",
              "      <td>Уфа</td>\n",
              "      <td>26</td>\n",
              "    </tr>\n",
              "    <tr>\n",
              "      <th>8</th>\n",
              "      <td>Самара</td>\n",
              "      <td>26</td>\n",
              "    </tr>\n",
              "    <tr>\n",
              "      <th>9</th>\n",
              "      <td>Краснодар</td>\n",
              "      <td>30</td>\n",
              "    </tr>\n",
              "    <tr>\n",
              "      <th>10</th>\n",
              "      <td>Воронеж</td>\n",
              "      <td>32</td>\n",
              "    </tr>\n",
              "    <tr>\n",
              "      <th>11</th>\n",
              "      <td>Новосибирск</td>\n",
              "      <td>35</td>\n",
              "    </tr>\n",
              "    <tr>\n",
              "      <th>12</th>\n",
              "      <td>Нижний Новгород</td>\n",
              "      <td>36</td>\n",
              "    </tr>\n",
              "    <tr>\n",
              "      <th>13</th>\n",
              "      <td>Екатеринбург</td>\n",
              "      <td>39</td>\n",
              "    </tr>\n",
              "    <tr>\n",
              "      <th>14</th>\n",
              "      <td>Санкт-Петербург</td>\n",
              "      <td>42</td>\n",
              "    </tr>\n",
              "    <tr>\n",
              "      <th>15</th>\n",
              "      <td>Москва</td>\n",
              "      <td>54</td>\n",
              "    </tr>\n",
              "    <tr>\n",
              "      <th>16</th>\n",
              "      <td>Total</td>\n",
              "      <td>485</td>\n",
              "    </tr>\n",
              "  </tbody>\n",
              "</table>\n",
              "</div>"
            ],
            "text/plain": [
              "              Город  Количество вакансий\n",
              "0              Омск                   21\n",
              "1         Челябинск                   22\n",
              "2        Красноярск                   23\n",
              "3         Волгоград                   24\n",
              "4             Пермь                   25\n",
              "5            Казань                   25\n",
              "6    Ростов-на-Дону                   25\n",
              "7               Уфа                   26\n",
              "8            Самара                   26\n",
              "9         Краснодар                   30\n",
              "10          Воронеж                   32\n",
              "11      Новосибирск                   35\n",
              "12  Нижний Новгород                   36\n",
              "13     Екатеринбург                   39\n",
              "14  Санкт-Петербург                   42\n",
              "15           Москва                   54\n",
              "16            Total                  485"
            ]
          },
          "metadata": {},
          "output_type": "display_data"
        },
        {
          "data": {
            "text/plain": [
              "'Количество строк в таблице: 17'"
            ]
          },
          "metadata": {},
          "output_type": "display_data"
        }
      ],
      "source": [
        "# результат запроса\n",
        "df = pd.read_sql_query(query_5_7, conn_str)\n",
        "display(df)\n",
        "display(f\"Количество строк в таблице: {df.shape[0]}\")"
      ]
    },
    {
      "cell_type": "markdown",
      "id": "04966e40-3bc3-4dc8-9ba2-e80580ce3abc",
      "metadata": {
        "id": "04966e40-3bc3-4dc8-9ba2-e80580ce3abc"
      },
      "source": [
        "***"
      ]
    },
    {
      "attachments": {},
      "cell_type": "markdown",
      "id": "639f39f8",
      "metadata": {},
      "source": [
        "Выводы:\n",
        "\n",
        "- Лидером по количеству вакансий в БД с большим отрывом является Яндекс - 1933 вакансий. Ростелеком, занимающий 2-е место, имеет почти в 4 раза меньше вакансий.\n",
        "- Лидерами по количеству работодателей и вакансий являются Москва, Санкт-Петербург и Минск. Часть работодателей точно не указывает свое местонахождение, органичиваясь указанием региона или страны, при этом в вакансиях всегда точно указан населенный пункт. Это объясняет нулевое количество вакансий в части регионов, где есть зарегистрированные работодатели.\n",
        "- Яндекс и Ростелеком являются лидерами по количеству регионов с опубликованными в них вакансиями.\n",
        "- Более 35% работодателей в БД не указывают свою сферу деятельности. На долю таких работодателей приходится 10084 вакансий, что составляет чуть более 20% всех вакансий в БД (см. доп. исследование).\n",
        "- Лидером по количеству сфер деятельности является компания \"Модуль\", указавшая 16 различных областей (см. доп. исследование).\n",
        "- Разработка программного обеспечения является наиболее распространенной сферой деятельности среди работодателей в БД (см. доп. исследование).\n",
        "- 25% вакансий Яндекса приходится на города-миллионники."
      ]
    },
    {
      "cell_type": "markdown",
      "id": "b1ef156a-efcb-49ce-bb23-90763e7f35b2",
      "metadata": {
        "id": "b1ef156a-efcb-49ce-bb23-90763e7f35b2",
        "tags": []
      },
      "source": [
        "# Юнит 6. Предметный анализ"
      ]
    },
    {
      "cell_type": "markdown",
      "id": "b9cd50a0-992d-4988-8463-2b2b1c4629b4",
      "metadata": {
        "id": "b9cd50a0-992d-4988-8463-2b2b1c4629b4"
      },
      "source": [
        "1. Сколько вакансий имеет отношение к данным?\n",
        "\n",
        "Считаем, что вакансия имеет отношение к данным, если в её названии содержатся слова 'data' или 'данн'.\n",
        "\n",
        "*Подсказка: Обратите внимание, что названия вакансий могут быть написаны в любом регистре.* \n"
      ]
    },
    {
      "cell_type": "code",
      "execution_count": 197,
      "id": "54ab0e50-c0f1-47cc-a54b-bc5c8bc363f9",
      "metadata": {
        "id": "54ab0e50-c0f1-47cc-a54b-bc5c8bc363f9"
      },
      "outputs": [],
      "source": [
        "# текст запроса\n",
        "query_6_1 = f'''select\n",
        "                    count(*) \"Количество вакансий\"\n",
        "                from public.vacancies\n",
        "                where lower(name) like '%data%' or lower(name) like '%данн%' /*условие по принадлежности вакансии к данным*/\n",
        "             '''"
      ]
    },
    {
      "cell_type": "code",
      "execution_count": 200,
      "id": "9F1meAqsuUjd",
      "metadata": {
        "id": "9F1meAqsuUjd"
      },
      "outputs": [
        {
          "name": "stderr",
          "output_type": "stream",
          "text": [
            "C:\\Users\\kkaza\\AppData\\Local\\Temp\\ipykernel_1796\\4105223737.py:2: UserWarning: pandas only supports SQLAlchemy connectable (engine/connection) or database string URI or sqlite3 DBAPI2 connection. Other DBAPI2 objects are not tested. Please consider using SQLAlchemy.\n",
            "  df = pd.read_sql_query(query_6_1, connection)\n"
          ]
        },
        {
          "data": {
            "text/html": [
              "<div>\n",
              "<style scoped>\n",
              "    .dataframe tbody tr th:only-of-type {\n",
              "        vertical-align: middle;\n",
              "    }\n",
              "\n",
              "    .dataframe tbody tr th {\n",
              "        vertical-align: top;\n",
              "    }\n",
              "\n",
              "    .dataframe thead th {\n",
              "        text-align: right;\n",
              "    }\n",
              "</style>\n",
              "<table border=\"1\" class=\"dataframe\">\n",
              "  <thead>\n",
              "    <tr style=\"text-align: right;\">\n",
              "      <th></th>\n",
              "      <th>Количество вакансий</th>\n",
              "    </tr>\n",
              "  </thead>\n",
              "  <tbody>\n",
              "    <tr>\n",
              "      <th>0</th>\n",
              "      <td>1771</td>\n",
              "    </tr>\n",
              "  </tbody>\n",
              "</table>\n",
              "</div>"
            ],
            "text/plain": [
              "   Количество вакансий\n",
              "0                 1771"
            ]
          },
          "metadata": {},
          "output_type": "display_data"
        },
        {
          "data": {
            "text/plain": [
              "'Вакансий от общего количества в БД: 3.6%'"
            ]
          },
          "metadata": {},
          "output_type": "display_data"
        }
      ],
      "source": [
        "# результат запроса\n",
        "df = pd.read_sql_query(query_6_1, connection)\n",
        "display(df)\n",
        "display(f\"Вакансий от общего количества в БД: {round((df.iloc[0, 0] / df_vac.iloc[0, 0]) * 100, 1)}%\")"
      ]
    },
    {
      "cell_type": "markdown",
      "id": "4dea20cb-a36b-474a-a0b9-e08e8e3857a5",
      "metadata": {
        "id": "4dea20cb-a36b-474a-a0b9-e08e8e3857a5"
      },
      "source": [
        "2. Сколько есть подходящих вакансий для начинающего дата-сайентиста? \n",
        "Будем считать вакансиями для дата-сайентистов такие, в названии которых есть хотя бы одно из следующих сочетаний:\n",
        "* 'data scientist'\n",
        "* 'data science'\n",
        "* 'исследователь данных'\n",
        "* 'ML' (здесь не нужно брать вакансии по HTML)\n",
        "* 'machine learning'\n",
        "* 'машинн%обучен%'\n",
        "\n",
        "** В следующих заданиях мы продолжим работать с вакансиями по этому условию.*\n",
        "\n",
        "Считаем вакансиями для специалистов уровня Junior следующие:\n",
        "* в названии есть слово 'junior' *или*\n",
        "* требуемый опыт — Нет опыта *или*\n",
        "* тип трудоустройства — Стажировка.\n",
        " "
      ]
    },
    {
      "cell_type": "code",
      "execution_count": 164,
      "id": "9c61b3c0-bb66-46c9-ae1e-81d3f5752b4a",
      "metadata": {
        "id": "9c61b3c0-bb66-46c9-ae1e-81d3f5752b4a"
      },
      "outputs": [],
      "source": [
        "# текст запроса\n",
        "query_6_2 = f'''select \n",
        "                    count(*) \"Количество вакансий\"\n",
        "                from public.vacancies\n",
        "                where\n",
        "                    (name ilike '%data scientist%' \n",
        "                    or name ilike '%data science%'\n",
        "                    or name ilike '%исследователь данных%'\n",
        "                    or (name like '%ML%' and name not like '%HTML%')\n",
        "                    or name ilike '%machine learning%'\n",
        "                    or name ilike '%машинн%обучен%%') /*условие по принадлежности вакансии к DS*/\n",
        "                    and \n",
        "                    (name ilike '%junior%'\n",
        "                    or experience ilike '%Нет опыта%'\n",
        "                    or employment ilike '%Стажировка%') /*условие по критериям для junior*/\n",
        "             '''"
      ]
    },
    {
      "cell_type": "code",
      "execution_count": 165,
      "id": "ZNM-LLYuu1dj",
      "metadata": {
        "id": "ZNM-LLYuu1dj"
      },
      "outputs": [
        {
          "name": "stderr",
          "output_type": "stream",
          "text": [
            "C:\\Users\\kkaza\\AppData\\Local\\Temp\\ipykernel_1796\\700150659.py:2: UserWarning: pandas only supports SQLAlchemy connectable (engine/connection) or database string URI or sqlite3 DBAPI2 connection. Other DBAPI2 objects are not tested. Please consider using SQLAlchemy.\n",
            "  df = pd.read_sql_query(query_6_2, connection)\n"
          ]
        },
        {
          "data": {
            "text/html": [
              "<div>\n",
              "<style scoped>\n",
              "    .dataframe tbody tr th:only-of-type {\n",
              "        vertical-align: middle;\n",
              "    }\n",
              "\n",
              "    .dataframe tbody tr th {\n",
              "        vertical-align: top;\n",
              "    }\n",
              "\n",
              "    .dataframe thead th {\n",
              "        text-align: right;\n",
              "    }\n",
              "</style>\n",
              "<table border=\"1\" class=\"dataframe\">\n",
              "  <thead>\n",
              "    <tr style=\"text-align: right;\">\n",
              "      <th></th>\n",
              "      <th>Количество вакансий</th>\n",
              "    </tr>\n",
              "  </thead>\n",
              "  <tbody>\n",
              "    <tr>\n",
              "      <th>0</th>\n",
              "      <td>51</td>\n",
              "    </tr>\n",
              "  </tbody>\n",
              "</table>\n",
              "</div>"
            ],
            "text/plain": [
              "   Количество вакансий\n",
              "0                   51"
            ]
          },
          "metadata": {},
          "output_type": "display_data"
        }
      ],
      "source": [
        "# результат запроса\n",
        "df = pd.read_sql_query(query_6_2, connection)\n",
        "display(df)"
      ]
    },
    {
      "cell_type": "markdown",
      "id": "eedceb80-c5ca-480e-b27a-278dfb8b4438",
      "metadata": {
        "id": "eedceb80-c5ca-480e-b27a-278dfb8b4438"
      },
      "source": [
        "3. Сколько есть вакансий для DS, в которых в качестве ключевого навыка указан SQL или postgres?\n",
        "\n",
        "** Критерии для отнесения вакансии к DS указаны в предыдущем задании.*"
      ]
    },
    {
      "cell_type": "code",
      "execution_count": 166,
      "id": "69621713-0cc5-4f1b-a1d7-bb144fa6148c",
      "metadata": {
        "id": "69621713-0cc5-4f1b-a1d7-bb144fa6148c"
      },
      "outputs": [],
      "source": [
        "# текст запроса\n",
        "query_6_3 = f'''select \n",
        "                    count(*) \"Количество вакансий\"\n",
        "                from public.vacancies\n",
        "                where\n",
        "                    (name ilike '%data scientist%' \n",
        "                    or name ilike '%data science%'\n",
        "                    or name ilike '%исследователь данных%'\n",
        "                    or (name like '%ML%' and name not like '%HTML%')\n",
        "                    or name ilike '%machine learning%'\n",
        "                    or name ilike '%машинн%обучен%%') /*условие по принадлежности вакансии к DS*/\n",
        "                    and \n",
        "                    (key_skills ilike '%SQL%'\n",
        "                    or key_skills ilike '%postgres%') /*условие по ключевым навыкам*/\n",
        "             '''"
      ]
    },
    {
      "cell_type": "code",
      "execution_count": 167,
      "id": "alA8WEAAvGdf",
      "metadata": {
        "id": "alA8WEAAvGdf"
      },
      "outputs": [
        {
          "name": "stderr",
          "output_type": "stream",
          "text": [
            "C:\\Users\\kkaza\\AppData\\Local\\Temp\\ipykernel_1796\\1206811184.py:2: UserWarning: pandas only supports SQLAlchemy connectable (engine/connection) or database string URI or sqlite3 DBAPI2 connection. Other DBAPI2 objects are not tested. Please consider using SQLAlchemy.\n",
            "  df = pd.read_sql_query(query_6_3, connection)\n"
          ]
        },
        {
          "data": {
            "text/html": [
              "<div>\n",
              "<style scoped>\n",
              "    .dataframe tbody tr th:only-of-type {\n",
              "        vertical-align: middle;\n",
              "    }\n",
              "\n",
              "    .dataframe tbody tr th {\n",
              "        vertical-align: top;\n",
              "    }\n",
              "\n",
              "    .dataframe thead th {\n",
              "        text-align: right;\n",
              "    }\n",
              "</style>\n",
              "<table border=\"1\" class=\"dataframe\">\n",
              "  <thead>\n",
              "    <tr style=\"text-align: right;\">\n",
              "      <th></th>\n",
              "      <th>Количество вакансий</th>\n",
              "    </tr>\n",
              "  </thead>\n",
              "  <tbody>\n",
              "    <tr>\n",
              "      <th>0</th>\n",
              "      <td>201</td>\n",
              "    </tr>\n",
              "  </tbody>\n",
              "</table>\n",
              "</div>"
            ],
            "text/plain": [
              "   Количество вакансий\n",
              "0                  201"
            ]
          },
          "metadata": {},
          "output_type": "display_data"
        }
      ],
      "source": [
        "# результат запроса\n",
        "df = pd.read_sql_query(query_6_3, connection)\n",
        "display(df)"
      ]
    },
    {
      "cell_type": "markdown",
      "id": "1be1e9c6-37cf-4a5f-bfeb-04cab799dc80",
      "metadata": {
        "id": "1be1e9c6-37cf-4a5f-bfeb-04cab799dc80"
      },
      "source": [
        "4. Проверьте, насколько популярен Python в требованиях работодателей к DS.Для этого вычислите количество вакансий, в которых в качестве ключевого навыка указан Python.\n",
        "\n",
        "** Это можно сделать помощью запроса, аналогичного предыдущему.*"
      ]
    },
    {
      "cell_type": "code",
      "execution_count": 168,
      "id": "0036a355-9ccf-4564-8b01-73d8194297e7",
      "metadata": {
        "id": "0036a355-9ccf-4564-8b01-73d8194297e7"
      },
      "outputs": [],
      "source": [
        "# текст запроса\n",
        "query_6_4 = f'''select \n",
        "                    count(*) \"Количество вакансий\"\n",
        "                from public.vacancies\n",
        "                where\n",
        "                    (name ilike '%data scientist%' \n",
        "                    or name ilike '%data science%'\n",
        "                    or name ilike '%исследователь данных%'\n",
        "                    or (name like '%ML%' and name not like '%HTML%')\n",
        "                    or name ilike '%machine learning%'\n",
        "                    or name ilike '%машинн%обучен%%') /*условие по принадлежности вакансии к DS*/\n",
        "                    and\n",
        "                    key_skills ilike '%Python%' /*условие по ключевому навыку*/\n",
        "             '''"
      ]
    },
    {
      "cell_type": "code",
      "execution_count": 169,
      "id": "1i-5WyucvQ6v",
      "metadata": {
        "id": "1i-5WyucvQ6v"
      },
      "outputs": [
        {
          "name": "stderr",
          "output_type": "stream",
          "text": [
            "C:\\Users\\kkaza\\AppData\\Local\\Temp\\ipykernel_1796\\4143830933.py:2: UserWarning: pandas only supports SQLAlchemy connectable (engine/connection) or database string URI or sqlite3 DBAPI2 connection. Other DBAPI2 objects are not tested. Please consider using SQLAlchemy.\n",
            "  df = pd.read_sql_query(query_6_4, connection)\n"
          ]
        },
        {
          "data": {
            "text/html": [
              "<div>\n",
              "<style scoped>\n",
              "    .dataframe tbody tr th:only-of-type {\n",
              "        vertical-align: middle;\n",
              "    }\n",
              "\n",
              "    .dataframe tbody tr th {\n",
              "        vertical-align: top;\n",
              "    }\n",
              "\n",
              "    .dataframe thead th {\n",
              "        text-align: right;\n",
              "    }\n",
              "</style>\n",
              "<table border=\"1\" class=\"dataframe\">\n",
              "  <thead>\n",
              "    <tr style=\"text-align: right;\">\n",
              "      <th></th>\n",
              "      <th>Количество вакансий</th>\n",
              "    </tr>\n",
              "  </thead>\n",
              "  <tbody>\n",
              "    <tr>\n",
              "      <th>0</th>\n",
              "      <td>351</td>\n",
              "    </tr>\n",
              "  </tbody>\n",
              "</table>\n",
              "</div>"
            ],
            "text/plain": [
              "   Количество вакансий\n",
              "0                  351"
            ]
          },
          "metadata": {},
          "output_type": "display_data"
        }
      ],
      "source": [
        "# результат запроса\n",
        "df = pd.read_sql_query(query_6_4, connection)\n",
        "display(df)"
      ]
    },
    {
      "cell_type": "markdown",
      "id": "ec3c8db7-fa21-4a41-a994-1af63742a642",
      "metadata": {
        "id": "ec3c8db7-fa21-4a41-a994-1af63742a642"
      },
      "source": [
        "5. Сколько ключевых навыков в среднем указывают в вакансиях для DS?\n",
        "Ответ округлите до двух знаков после точки-разделителя."
      ]
    },
    {
      "cell_type": "code",
      "execution_count": 170,
      "id": "949132bc-d5b6-4611-8218-0b9a504d74f4",
      "metadata": {
        "id": "949132bc-d5b6-4611-8218-0b9a504d74f4"
      },
      "outputs": [],
      "source": [
        "# текст запроса\n",
        "query_6_5 = f'''select \n",
        "                    round(avg(length(key_skills) - length(replace(key_skills, CHR(9), '')) + 1), 2) \"Количество ключевых навыков\"\n",
        "                from public.vacancies\n",
        "                where\n",
        "                    (name ilike '%data scientist%' \n",
        "                    or name ilike '%data science%'\n",
        "                    or name ilike '%исследователь данных%'\n",
        "                    or (name like '%ML%' and name not like '%HTML%')\n",
        "                    or name ilike '%machine learning%'\n",
        "                    or name ilike '%машинн%обучен%%') /*условие по принадлежности вакансии к DS*/\n",
        "                    and\n",
        "                    key_skills is not null /*условие наличию ключевых навыков*/\n",
        "             '''"
      ]
    },
    {
      "cell_type": "code",
      "execution_count": 171,
      "id": "a3V24Tvmviqk",
      "metadata": {
        "id": "a3V24Tvmviqk"
      },
      "outputs": [
        {
          "name": "stderr",
          "output_type": "stream",
          "text": [
            "C:\\Users\\kkaza\\AppData\\Local\\Temp\\ipykernel_1796\\3940953658.py:2: UserWarning: pandas only supports SQLAlchemy connectable (engine/connection) or database string URI or sqlite3 DBAPI2 connection. Other DBAPI2 objects are not tested. Please consider using SQLAlchemy.\n",
            "  df = pd.read_sql_query(query_6_5, connection)\n"
          ]
        },
        {
          "data": {
            "text/html": [
              "<div>\n",
              "<style scoped>\n",
              "    .dataframe tbody tr th:only-of-type {\n",
              "        vertical-align: middle;\n",
              "    }\n",
              "\n",
              "    .dataframe tbody tr th {\n",
              "        vertical-align: top;\n",
              "    }\n",
              "\n",
              "    .dataframe thead th {\n",
              "        text-align: right;\n",
              "    }\n",
              "</style>\n",
              "<table border=\"1\" class=\"dataframe\">\n",
              "  <thead>\n",
              "    <tr style=\"text-align: right;\">\n",
              "      <th></th>\n",
              "      <th>Количество ключевых навыков</th>\n",
              "    </tr>\n",
              "  </thead>\n",
              "  <tbody>\n",
              "    <tr>\n",
              "      <th>0</th>\n",
              "      <td>6.41</td>\n",
              "    </tr>\n",
              "  </tbody>\n",
              "</table>\n",
              "</div>"
            ],
            "text/plain": [
              "   Количество ключевых навыков\n",
              "0                         6.41"
            ]
          },
          "metadata": {},
          "output_type": "display_data"
        }
      ],
      "source": [
        "# результат запроса\n",
        "df = pd.read_sql_query(query_6_5, connection)\n",
        "display(df)"
      ]
    },
    {
      "cell_type": "markdown",
      "id": "1041c17a-ca8f-4543-a0ca-32778914fb00",
      "metadata": {
        "id": "1041c17a-ca8f-4543-a0ca-32778914fb00"
      },
      "source": [
        "6. Напишите запрос, позволяющий вычислить, какую зарплату для DS в **среднем** указывают для каждого типа требуемого опыта (уникальное значение из поля *experience*). \n",
        "\n",
        "При решении задачи примите во внимание следующее:\n",
        "1. Рассматриваем только вакансии, у которых заполнено хотя бы одно из двух полей с зарплатой.\n",
        "2. Если заполнены оба поля с зарплатой, то считаем зарплату по каждой вакансии как сумму двух полей, делённую на 2. Если заполнено только одно из полей, то его и считаем зарплатой по вакансии.\n",
        "3. Если в расчётах участвует null, в результате он тоже даст null (посмотрите, что возвращает запрос select 1 + null). Чтобы избежать этой ситуацию, мы воспользуемся функцией [coalesce](https://postgrespro.ru/docs/postgresql/9.5/functions-conditional#functions-coalesce-nvl-ifnull), которая заменит null на значение, которое мы передадим. Например, посмотрите, что возвращает запрос `select 1 + coalesce(null, 0)`\n",
        "\n",
        "Выясните, на какую зарплату в среднем может рассчитывать дата-сайентист с опытом работы от 3 до 6 лет. Результат округлите до целого числа. "
      ]
    },
    {
      "cell_type": "code",
      "execution_count": 172,
      "id": "6a743d39-5204-48d3-8271-b9f88e68d40e",
      "metadata": {
        "id": "6a743d39-5204-48d3-8271-b9f88e68d40e"
      },
      "outputs": [],
      "source": [
        "# текст запроса\n",
        "query_6_6 = f'''select \n",
        "                    distinct experience \"Опыт работы\",\n",
        "                    round(avg(coalesce((salary_from+salary_to)/2, salary_from, salary_to))) \"Средняя з/п\"\n",
        "                from public.vacancies\n",
        "                where\n",
        "                    (name ilike '%data scientist%' \n",
        "                    or name ilike '%data science%'\n",
        "                    or name ilike '%исследователь данных%'\n",
        "                    or (name like '%ML%' and name not like '%HTML%')\n",
        "                    or name ilike '%machine learning%'\n",
        "                    or name ilike '%машинн%обучен%%') /*условие по принадлежности вакансии к DS*/\n",
        "                    and \n",
        "                    (salary_from is not null or salary_to is not null) /*условие по наличию указаанной зарплаты*/\n",
        "                    and \n",
        "                    experience = 'От 3 до 6 лет' /*условие по опыту работы*/\n",
        "                group by 1\n",
        "             '''"
      ]
    },
    {
      "cell_type": "code",
      "execution_count": 173,
      "id": "aRIJ0mZEwU1_",
      "metadata": {
        "id": "aRIJ0mZEwU1_"
      },
      "outputs": [
        {
          "name": "stderr",
          "output_type": "stream",
          "text": [
            "C:\\Users\\kkaza\\AppData\\Local\\Temp\\ipykernel_1796\\3373444971.py:2: UserWarning: pandas only supports SQLAlchemy connectable (engine/connection) or database string URI or sqlite3 DBAPI2 connection. Other DBAPI2 objects are not tested. Please consider using SQLAlchemy.\n",
            "  df = pd.read_sql_query(query_6_6, connection)\n"
          ]
        },
        {
          "data": {
            "text/html": [
              "<div>\n",
              "<style scoped>\n",
              "    .dataframe tbody tr th:only-of-type {\n",
              "        vertical-align: middle;\n",
              "    }\n",
              "\n",
              "    .dataframe tbody tr th {\n",
              "        vertical-align: top;\n",
              "    }\n",
              "\n",
              "    .dataframe thead th {\n",
              "        text-align: right;\n",
              "    }\n",
              "</style>\n",
              "<table border=\"1\" class=\"dataframe\">\n",
              "  <thead>\n",
              "    <tr style=\"text-align: right;\">\n",
              "      <th></th>\n",
              "      <th>Опыт работы</th>\n",
              "      <th>Средняя з/п</th>\n",
              "    </tr>\n",
              "  </thead>\n",
              "  <tbody>\n",
              "    <tr>\n",
              "      <th>0</th>\n",
              "      <td>От 3 до 6 лет</td>\n",
              "      <td>243115.0</td>\n",
              "    </tr>\n",
              "  </tbody>\n",
              "</table>\n",
              "</div>"
            ],
            "text/plain": [
              "     Опыт работы  Средняя з/п\n",
              "0  От 3 до 6 лет     243115.0"
            ]
          },
          "metadata": {},
          "output_type": "display_data"
        }
      ],
      "source": [
        "# результат запроса\n",
        "df = pd.read_sql_query(query_6_6, connection)\n",
        "display(df)"
      ]
    },
    {
      "attachments": {},
      "cell_type": "markdown",
      "id": "a154feef",
      "metadata": {},
      "source": [
        "        Дополнительное исследование: распределение вакансий DS по опыту работы и з/п"
      ]
    },
    {
      "cell_type": "code",
      "execution_count": 186,
      "id": "dc204569",
      "metadata": {},
      "outputs": [],
      "source": [
        "query_6_6_1 = f'''select \n",
        "                    count(*) \"Кол-во вакансий DS с указанной з/п\"\n",
        "                    from public.vacancies\n",
        "                  where\n",
        "                    (name ilike '%data scientist%' \n",
        "                    or name ilike '%data science%'\n",
        "                    or name ilike '%исследователь данных%'\n",
        "                    or (name like '%ML%' and name not like '%HTML%')\n",
        "                    or name ilike '%machine learning%'\n",
        "                    or name ilike '%машинн%обучен%%') /*условие по принадлежности вакансии к DS*/\n",
        "                    and \n",
        "                    (salary_from is not null or salary_to is not null) /*условие по наличию указаанной зарплаты*/\n",
        "               '''"
      ]
    },
    {
      "cell_type": "code",
      "execution_count": 187,
      "id": "0e85d736",
      "metadata": {},
      "outputs": [
        {
          "name": "stderr",
          "output_type": "stream",
          "text": [
            "C:\\Users\\kkaza\\AppData\\Local\\Temp\\ipykernel_1796\\198901364.py:2: UserWarning: pandas only supports SQLAlchemy connectable (engine/connection) or database string URI or sqlite3 DBAPI2 connection. Other DBAPI2 objects are not tested. Please consider using SQLAlchemy.\n",
            "  df = pd.read_sql_query(query_6_6_1, connection)\n"
          ]
        },
        {
          "data": {
            "text/html": [
              "<div>\n",
              "<style scoped>\n",
              "    .dataframe tbody tr th:only-of-type {\n",
              "        vertical-align: middle;\n",
              "    }\n",
              "\n",
              "    .dataframe tbody tr th {\n",
              "        vertical-align: top;\n",
              "    }\n",
              "\n",
              "    .dataframe thead th {\n",
              "        text-align: right;\n",
              "    }\n",
              "</style>\n",
              "<table border=\"1\" class=\"dataframe\">\n",
              "  <thead>\n",
              "    <tr style=\"text-align: right;\">\n",
              "      <th></th>\n",
              "      <th>Кол-во вакансий DS с указанной з/п</th>\n",
              "    </tr>\n",
              "  </thead>\n",
              "  <tbody>\n",
              "    <tr>\n",
              "      <th>0</th>\n",
              "      <td>62</td>\n",
              "    </tr>\n",
              "  </tbody>\n",
              "</table>\n",
              "</div>"
            ],
            "text/plain": [
              "   Кол-во вакансий DS с указанной з/п\n",
              "0                                  62"
            ]
          },
          "metadata": {},
          "output_type": "display_data"
        }
      ],
      "source": [
        "# результат запроса\n",
        "df = pd.read_sql_query(query_6_6_1, connection)\n",
        "display(df)"
      ]
    },
    {
      "cell_type": "code",
      "execution_count": 188,
      "id": "b295de6b",
      "metadata": {},
      "outputs": [],
      "source": [
        "query_6_6_2 = f'''select\n",
        "                    distinct experience \"Опыт работы\",\n",
        "                    round(avg(coalesce((salary_from+salary_to)/2, salary_from, salary_to))) \"Средняя з/п\",\n",
        "                    count(*) \"Кол-во вакансий DS с указанной з/п\"\n",
        "                  from public.vacancies\n",
        "                  where\n",
        "                    (name ilike '%data scientist%' \n",
        "                    or name ilike '%data science%'\n",
        "                    or name ilike '%исследователь данных%'\n",
        "                    or (name like '%ML%' and name not like '%HTML%')\n",
        "                    or name ilike '%machine learning%'\n",
        "                    or name ilike '%машинн%обучен%%') /*условие по принадлежности вакансии к DS*/\n",
        "                    and \n",
        "                    (salary_from is not null or salary_to is not null) /*условие по наличию указаанной зарплаты*/\n",
        "                  group by 1\n",
        "               '''\n",
        " "
      ]
    },
    {
      "cell_type": "code",
      "execution_count": 189,
      "id": "0d390390",
      "metadata": {},
      "outputs": [
        {
          "name": "stderr",
          "output_type": "stream",
          "text": [
            "C:\\Users\\kkaza\\AppData\\Local\\Temp\\ipykernel_1796\\410717872.py:2: UserWarning: pandas only supports SQLAlchemy connectable (engine/connection) or database string URI or sqlite3 DBAPI2 connection. Other DBAPI2 objects are not tested. Please consider using SQLAlchemy.\n",
            "  df = pd.read_sql_query(query_6_6_2, connection)\n"
          ]
        },
        {
          "data": {
            "text/html": [
              "<div>\n",
              "<style scoped>\n",
              "    .dataframe tbody tr th:only-of-type {\n",
              "        vertical-align: middle;\n",
              "    }\n",
              "\n",
              "    .dataframe tbody tr th {\n",
              "        vertical-align: top;\n",
              "    }\n",
              "\n",
              "    .dataframe thead th {\n",
              "        text-align: right;\n",
              "    }\n",
              "</style>\n",
              "<table border=\"1\" class=\"dataframe\">\n",
              "  <thead>\n",
              "    <tr style=\"text-align: right;\">\n",
              "      <th></th>\n",
              "      <th>Опыт работы</th>\n",
              "      <th>Средняя з/п</th>\n",
              "      <th>Кол-во вакансий DS с указанной з/п</th>\n",
              "    </tr>\n",
              "  </thead>\n",
              "  <tbody>\n",
              "    <tr>\n",
              "      <th>0</th>\n",
              "      <td>Нет опыта</td>\n",
              "      <td>74643.0</td>\n",
              "      <td>7</td>\n",
              "    </tr>\n",
              "    <tr>\n",
              "      <th>1</th>\n",
              "      <td>От 1 года до 3 лет</td>\n",
              "      <td>139675.0</td>\n",
              "      <td>28</td>\n",
              "    </tr>\n",
              "    <tr>\n",
              "      <th>2</th>\n",
              "      <td>От 3 до 6 лет</td>\n",
              "      <td>243115.0</td>\n",
              "      <td>27</td>\n",
              "    </tr>\n",
              "  </tbody>\n",
              "</table>\n",
              "</div>"
            ],
            "text/plain": [
              "          Опыт работы  Средняя з/п  Кол-во вакансий DS с указанной з/п\n",
              "0           Нет опыта      74643.0                                   7\n",
              "1  От 1 года до 3 лет     139675.0                                  28\n",
              "2       От 3 до 6 лет     243115.0                                  27"
            ]
          },
          "metadata": {},
          "output_type": "display_data"
        }
      ],
      "source": [
        "# результат запроса\n",
        "df = pd.read_sql_query(query_6_6_2, connection)\n",
        "display(df)"
      ]
    },
    {
      "cell_type": "code",
      "execution_count": 192,
      "id": "2e7c1526",
      "metadata": {},
      "outputs": [],
      "source": [
        "query_6_6_3 = f'''(select\n",
        "                    distinct experience \"Опыт работы\",\n",
        "                    count(*) \"Количество вакансий DS\"\n",
        "                  from public.vacancies\n",
        "                  where\n",
        "                    (name ilike '%data scientist%' \n",
        "                    or name ilike '%data science%'\n",
        "                    or name ilike '%исследователь данных%'\n",
        "                    or (name like '%ML%' and name not like '%HTML%')\n",
        "                    or name ilike '%machine learning%'\n",
        "                    or name ilike '%машинн%обучен%%') /*условие по принадлежности вакансии к DS*/\n",
        "                  group by 1\n",
        "                  )\n",
        "                  \n",
        "                  union all /*объединение результатов двух запросов*/\n",
        "                  \n",
        "                  (select\n",
        "                    'Итого вакансий DS',\n",
        "                    count(*)\n",
        "                  from public.vacancies\n",
        "                  where\n",
        "                    (name ilike '%data scientist%' \n",
        "                    or name ilike '%data science%'\n",
        "                    or name ilike '%исследователь данных%'\n",
        "                    or (name like '%ML%' and name not like '%HTML%')\n",
        "                    or name ilike '%machine learning%'\n",
        "                    or name ilike '%машинн%обучен%%')\n",
        "                  )\n",
        "                  \n",
        "                  order by 2 /*сортировка итоговой таблицы*/\n",
        "               '''\n",
        " "
      ]
    },
    {
      "cell_type": "code",
      "execution_count": 193,
      "id": "e849b2d9",
      "metadata": {},
      "outputs": [
        {
          "name": "stderr",
          "output_type": "stream",
          "text": [
            "C:\\Users\\kkaza\\AppData\\Local\\Temp\\ipykernel_1796\\673847767.py:2: UserWarning: pandas only supports SQLAlchemy connectable (engine/connection) or database string URI or sqlite3 DBAPI2 connection. Other DBAPI2 objects are not tested. Please consider using SQLAlchemy.\n",
            "  df = pd.read_sql_query(query_6_6_3, connection)\n"
          ]
        },
        {
          "data": {
            "text/html": [
              "<div>\n",
              "<style scoped>\n",
              "    .dataframe tbody tr th:only-of-type {\n",
              "        vertical-align: middle;\n",
              "    }\n",
              "\n",
              "    .dataframe tbody tr th {\n",
              "        vertical-align: top;\n",
              "    }\n",
              "\n",
              "    .dataframe thead th {\n",
              "        text-align: right;\n",
              "    }\n",
              "</style>\n",
              "<table border=\"1\" class=\"dataframe\">\n",
              "  <thead>\n",
              "    <tr style=\"text-align: right;\">\n",
              "      <th></th>\n",
              "      <th>Опыт работы</th>\n",
              "      <th>Количество вакансий DS</th>\n",
              "    </tr>\n",
              "  </thead>\n",
              "  <tbody>\n",
              "    <tr>\n",
              "      <th>0</th>\n",
              "      <td>Нет опыта</td>\n",
              "      <td>28</td>\n",
              "    </tr>\n",
              "    <tr>\n",
              "      <th>1</th>\n",
              "      <td>Более 6 лет</td>\n",
              "      <td>34</td>\n",
              "    </tr>\n",
              "    <tr>\n",
              "      <th>2</th>\n",
              "      <td>От 3 до 6 лет</td>\n",
              "      <td>195</td>\n",
              "    </tr>\n",
              "    <tr>\n",
              "      <th>3</th>\n",
              "      <td>От 1 года до 3 лет</td>\n",
              "      <td>223</td>\n",
              "    </tr>\n",
              "    <tr>\n",
              "      <th>4</th>\n",
              "      <td>Итого вакансий DS</td>\n",
              "      <td>480</td>\n",
              "    </tr>\n",
              "  </tbody>\n",
              "</table>\n",
              "</div>"
            ],
            "text/plain": [
              "          Опыт работы  Количество вакансий DS\n",
              "0           Нет опыта                      28\n",
              "1         Более 6 лет                      34\n",
              "2       От 3 до 6 лет                     195\n",
              "3  От 1 года до 3 лет                     223\n",
              "4   Итого вакансий DS                     480"
            ]
          },
          "metadata": {},
          "output_type": "display_data"
        }
      ],
      "source": [
        "# результат запроса\n",
        "df = pd.read_sql_query(query_6_6_3, connection)\n",
        "display(df)"
      ]
    },
    {
      "cell_type": "markdown",
      "id": "6a7892b4-4113-4746-adce-18aa2844f18e",
      "metadata": {
        "id": "6a7892b4-4113-4746-adce-18aa2844f18e"
      },
      "source": [
        "***"
      ]
    },
    {
      "attachments": {},
      "cell_type": "markdown",
      "id": "cccc9ecd",
      "metadata": {},
      "source": [
        "Выводы:\n",
        "\n",
        "- В БД содержится 1771 вакансия, связанная с данными, что составляет 3,6% от общего количества вакансий. Учитывая, что данные в БД не самые свежие, можно преположить, что на текущий момент % таких вакансий на рынке труда выше.\n",
        "- Общее количество вакансий для DS составляет 480, при этом только 51 из них для junior-специалистов, что свидетельствует о заинтересованности работодателей в опытных сотрудниках. Cреднее количество ключевых навыков в вакансиях (более 6) также косвенно подтверждает этот тезис. Распределение количества вакансий в зависимости от опыта работы показывает, что наиболее востребованы кандидаты с опытом работы от 1 года и выше.\n",
        "- Из 480 вакансий DS всего для 62 указан уровень зарплаты. Примечательно, что для соискателей с опытом работы более 6 лет, значение зарплаты не было указано ни в одной из вакансий. Можно сделать вывод, что в большинстве случаев предложение о зарплате формируется по результатам собеседования c кандидатами."
      ]
    },
    {
      "cell_type": "markdown",
      "id": "c0ED6fh7wiBT",
      "metadata": {
        "id": "c0ED6fh7wiBT"
      },
      "source": [
        "# Общий вывод по проекту"
      ]
    },
    {
      "attachments": {},
      "cell_type": "markdown",
      "id": "f2db3854",
      "metadata": {},
      "source": [
        "В БД содержится достаточное количество вакансий в различных сферах деятельности и предметных областях. География предложений работодателей обширная, включает в себя вакансии не только на территории России, но и в сопредельных государствах. Описание вакансий полное, что позволяет проводить анализ на основе названия вакансии, ключевых навыков, опыта работы, заработной платы, типа трудоустройства и графика работы (аналогично анализу вакансий для DS). Учитывая, что бОльшая часть работодателей в БД относится к сферам разработки ПО, системной интеграции и интернет-технологий, можно проводить детальный анализ вакансий для широкого круга IT-профессий."
      ]
    }
  ],
  "metadata": {
    "colab": {
      "collapsed_sections": [
        "8d62a9f3-f64e-4fe7-bdac-c4dffa16155e"
      ],
      "provenance": []
    },
    "kernelspec": {
      "display_name": "Python 3 (ipykernel)",
      "language": "python",
      "name": "python3"
    },
    "language_info": {
      "codemirror_mode": {
        "name": "ipython",
        "version": 3
      },
      "file_extension": ".py",
      "mimetype": "text/x-python",
      "name": "python",
      "nbconvert_exporter": "python",
      "pygments_lexer": "ipython3",
      "version": "3.11.3"
    }
  },
  "nbformat": 4,
  "nbformat_minor": 5
}
