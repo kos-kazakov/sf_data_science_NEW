{
 "cells": [
  {
   "cell_type": "code",
   "execution_count": 3,
   "metadata": {},
   "outputs": [],
   "source": [
    "import pandas as pd\n",
    "ratings_movies = pd.read_csv('data/ratings_movies.csv')\n",
    "rat_mov_copy = ratings_movies.copy()"
   ]
  },
  {
   "cell_type": "code",
   "execution_count": 7,
   "metadata": {},
   "outputs": [],
   "source": [
    "import re \n",
    "def get_year_release(arg):\n",
    "    #находим все слова по шаблону \"(DDDD)\"\n",
    "    candidates = re.findall(r'\\(\\d{4}\\)', arg) \n",
    "    # проверяем число вхождений\n",
    "    if len(candidates) > 0:\n",
    "        #если число вхождений больше 0,\n",
    "\t#очищаем строку от знаков \"(\" и \")\"\n",
    "        year = candidates[0].replace('(', '')\n",
    "        year = year.replace(')', '')\n",
    "        return int(year)\n",
    "    else:\n",
    "        #если год не указан, возвращаем None\n",
    "        return None"
   ]
  },
  {
   "cell_type": "code",
   "execution_count": 30,
   "metadata": {},
   "outputs": [
    {
     "data": {
      "text/html": [
       "<div>\n",
       "<style scoped>\n",
       "    .dataframe tbody tr th:only-of-type {\n",
       "        vertical-align: middle;\n",
       "    }\n",
       "\n",
       "    .dataframe tbody tr th {\n",
       "        vertical-align: top;\n",
       "    }\n",
       "\n",
       "    .dataframe thead th {\n",
       "        text-align: right;\n",
       "    }\n",
       "</style>\n",
       "<table border=\"1\" class=\"dataframe\">\n",
       "  <thead>\n",
       "    <tr style=\"text-align: right;\">\n",
       "      <th></th>\n",
       "      <th>Unnamed: 0</th>\n",
       "      <th>userId</th>\n",
       "      <th>movieId</th>\n",
       "      <th>rating</th>\n",
       "      <th>date</th>\n",
       "      <th>title</th>\n",
       "      <th>genres</th>\n",
       "      <th>year_release</th>\n",
       "    </tr>\n",
       "  </thead>\n",
       "  <tbody>\n",
       "    <tr>\n",
       "      <th>0</th>\n",
       "      <td>0</td>\n",
       "      <td>1</td>\n",
       "      <td>1</td>\n",
       "      <td>4.0</td>\n",
       "      <td>2000-07-30 18:45:03</td>\n",
       "      <td>Toy Story (1995)</td>\n",
       "      <td>Adventure|Animation|Children|Comedy|Fantasy</td>\n",
       "      <td>1995.0</td>\n",
       "    </tr>\n",
       "    <tr>\n",
       "      <th>1</th>\n",
       "      <td>1</td>\n",
       "      <td>1</td>\n",
       "      <td>3</td>\n",
       "      <td>4.0</td>\n",
       "      <td>2000-07-30 18:20:47</td>\n",
       "      <td>Grumpier Old Men (1995)</td>\n",
       "      <td>Comedy|Romance</td>\n",
       "      <td>1995.0</td>\n",
       "    </tr>\n",
       "    <tr>\n",
       "      <th>2</th>\n",
       "      <td>2</td>\n",
       "      <td>1</td>\n",
       "      <td>6</td>\n",
       "      <td>4.0</td>\n",
       "      <td>2000-07-30 18:37:04</td>\n",
       "      <td>Heat (1995)</td>\n",
       "      <td>Action|Crime|Thriller</td>\n",
       "      <td>1995.0</td>\n",
       "    </tr>\n",
       "    <tr>\n",
       "      <th>3</th>\n",
       "      <td>3</td>\n",
       "      <td>1</td>\n",
       "      <td>47</td>\n",
       "      <td>5.0</td>\n",
       "      <td>2000-07-30 19:03:35</td>\n",
       "      <td>Seven (a.k.a. Se7en) (1995)</td>\n",
       "      <td>Mystery|Thriller</td>\n",
       "      <td>1995.0</td>\n",
       "    </tr>\n",
       "    <tr>\n",
       "      <th>4</th>\n",
       "      <td>4</td>\n",
       "      <td>1</td>\n",
       "      <td>50</td>\n",
       "      <td>5.0</td>\n",
       "      <td>2000-07-30 18:48:51</td>\n",
       "      <td>Usual Suspects, The (1995)</td>\n",
       "      <td>Crime|Mystery|Thriller</td>\n",
       "      <td>1995.0</td>\n",
       "    </tr>\n",
       "  </tbody>\n",
       "</table>\n",
       "</div>"
      ],
      "text/plain": [
       "   Unnamed: 0  userId  movieId  rating                 date  \\\n",
       "0           0       1        1     4.0  2000-07-30 18:45:03   \n",
       "1           1       1        3     4.0  2000-07-30 18:20:47   \n",
       "2           2       1        6     4.0  2000-07-30 18:37:04   \n",
       "3           3       1       47     5.0  2000-07-30 19:03:35   \n",
       "4           4       1       50     5.0  2000-07-30 18:48:51   \n",
       "\n",
       "                         title                                       genres  \\\n",
       "0             Toy Story (1995)  Adventure|Animation|Children|Comedy|Fantasy   \n",
       "1      Grumpier Old Men (1995)                               Comedy|Romance   \n",
       "2                  Heat (1995)                        Action|Crime|Thriller   \n",
       "3  Seven (a.k.a. Se7en) (1995)                             Mystery|Thriller   \n",
       "4   Usual Suspects, The (1995)                       Crime|Mystery|Thriller   \n",
       "\n",
       "   year_release  \n",
       "0        1995.0  \n",
       "1        1995.0  \n",
       "2        1995.0  \n",
       "3        1995.0  \n",
       "4        1995.0  "
      ]
     },
     "execution_count": 30,
     "metadata": {},
     "output_type": "execute_result"
    }
   ],
   "source": [
    "rat_mov_copy.head()\n",
    "rat_mov_copy['year_release'] = rat_mov_copy['title'].apply(get_year_release)\n",
    "rat_mov_copy.info()"
   ]
  },
  {
   "cell_type": "code",
   "execution_count": null,
   "metadata": {},
   "outputs": [],
   "source": [
    "mask1 = rat_mov_copy['year_release'] == 1999\n",
    "rat_mov_copy[mask1].groupby(by='title')['rating'].mean().sort_values()"
   ]
  },
  {
   "cell_type": "code",
   "execution_count": null,
   "metadata": {},
   "outputs": [],
   "source": [
    "mask2 = rat_mov_copy['year_release'] == 2010\n",
    "rat_mov_copy[mask2].groupby(by='genres')['rating'].mean().sort_values()"
   ]
  },
  {
   "cell_type": "code",
   "execution_count": null,
   "metadata": {},
   "outputs": [],
   "source": [
    "rat_mov_copy.groupby(by='userId')['genres'].nunique().sort_values(ascending=False)"
   ]
  },
  {
   "cell_type": "code",
   "execution_count": null,
   "metadata": {},
   "outputs": [],
   "source": [
    "rat_mov_copy.groupby(by='userId')['rating'].agg(\n",
    "    ['count', 'mean']\n",
    ").sort_values(by=['count', 'mean'], ascending=[True, False])"
   ]
  },
  {
   "cell_type": "code",
   "execution_count": null,
   "metadata": {},
   "outputs": [],
   "source": [
    "mask3 = rat_mov_copy['year_release'] == 2018\n",
    "filter_genres = rat_mov_copy[mask3].groupby(by='genres')['rating'].agg(\n",
    "    ['mean', 'count']\n",
    ")\n",
    "filter_genres[filter_genres['count']>10].sort_values(by='mean', ascending=False)"
   ]
  },
  {
   "cell_type": "code",
   "execution_count": null,
   "metadata": {},
   "outputs": [],
   "source": [
    "rat_mov_copy['date'] = pd.to_datetime(rat_mov_copy['date'])\n",
    "rat_mov_copy['year_rating'] = rat_mov_copy['date'].dt.year\n",
    "#rat_mov_copy.info()\n",
    "#rat_mov_copy.head()\n",
    "pivot = rat_mov_copy.pivot_table(\n",
    "    values='rating',\n",
    "    index='year_rating',\n",
    "    columns='genres',\n",
    "    aggfunc='mean',\n",
    "    fill_value=0\n",
    ")\n",
    "#display(pivot)\n",
    "display(pivot['Comedy'])\n",
    "display(pivot.loc[2018].sort_values(ascending=False))\n"
   ]
  },
  {
   "cell_type": "code",
   "execution_count": 28,
   "metadata": {},
   "outputs": [
    {
     "data": {
      "text/plain": [
       "ID Покупателя\n",
       "7    17096.0\n",
       "5    13043.0\n",
       "8     1344.0\n",
       "1        0.0\n",
       "Name: Profit, dtype: float64"
      ]
     },
     "execution_count": 28,
     "metadata": {},
     "output_type": "execute_result"
    }
   ],
   "source": [
    "import pandas as pd\n",
    "orders = pd.read_csv('data/orders.csv', sep=\";\")\n",
    "products = pd.read_csv('data/products.csv', sep=\";\")\n",
    "#display(orders)\n",
    "#display(products)\n",
    "orders_products = orders.merge(\n",
    "    products,\n",
    "    left_on='ID товара',\n",
    "    right_on='Product_ID',\n",
    "    how='left')\n",
    "#display(orders_products)\n",
    "#orders_products.tail(2)['Order ID']\n",
    "#orders_products[orders_products['Отменен'] == 'Да']['Name']\n",
    "orders_products['Profit'] = orders_products['Price'] * orders_products['Количество']\n",
    "orders_products[orders_products['Оплачен'] == 'Да'].groupby(by='ID Покупателя')['Profit'].sum().sort_values(ascending=False)\n"
   ]
  }
 ],
 "metadata": {
  "kernelspec": {
   "display_name": "Python 3",
   "language": "python",
   "name": "python3"
  },
  "language_info": {
   "codemirror_mode": {
    "name": "ipython",
    "version": 3
   },
   "file_extension": ".py",
   "mimetype": "text/x-python",
   "name": "python",
   "nbconvert_exporter": "python",
   "pygments_lexer": "ipython3",
   "version": "3.9.13 (tags/v3.9.13:6de2ca5, May 17 2022, 16:36:42) [MSC v.1929 64 bit (AMD64)]"
  },
  "orig_nbformat": 4,
  "vscode": {
   "interpreter": {
    "hash": "cd77b519c2b1baf1c6ee5f295bd886c145c3e964bd37e52fece39b10a152b4f2"
   }
  }
 },
 "nbformat": 4,
 "nbformat_minor": 2
}
