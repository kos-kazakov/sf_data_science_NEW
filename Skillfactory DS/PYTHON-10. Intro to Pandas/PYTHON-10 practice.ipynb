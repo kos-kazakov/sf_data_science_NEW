{
 "cells": [
  {
   "cell_type": "code",
   "execution_count": 4,
   "metadata": {},
   "outputs": [
    {
     "data": {
      "text/plain": [
       "37.5"
      ]
     },
     "metadata": {},
     "output_type": "display_data"
    }
   ],
   "source": [
    "import pandas as pd\n",
    "\n",
    "names=['chlorhexidine', 'cyntomycin', 'afobazol']\n",
    "counts=[15, 18, 7]\n",
    "\n",
    "def create_medications(names, counts):\n",
    "    medications = pd.Series(data = counts, index = names, name = 'medications')\n",
    "    return medications\n",
    "\n",
    "\n",
    "def get_percent(medications, name):\n",
    "    perc = medications[name] / sum(medications) * 100\n",
    "    return perc\n",
    "\n",
    "display(get_percent(create_medications(names, counts), 'chlorhexidine'))\n",
    "\n",
    "\n"
   ]
  },
  {
   "cell_type": "code",
   "execution_count": null,
   "metadata": {},
   "outputs": [],
   "source": [
    "import pandas as pd\n",
    "\n",
    "incomes = [478, 512, 196]\n",
    "expenses = [156, 130, 270]\n",
    "years = [2018, 2019, 2020]\n",
    "\n",
    "def create_companyDF(incomes, expenses, years):\n",
    "    df_comp = pd.DataFrame({'incomes': incomes, 'expenses': expenses})\n",
    "    df_comp.index = years\n",
    "    return df_comp\n",
    "\n",
    "\n",
    "def get_profit(df, year):\n",
    "    if year in df.index:\n",
    "        result = df.incomes[year] - df.expenses[year]\n",
    "        return result\n",
    "    else:\n",
    "        return None\n",
    "\n",
    "display(create_companyDF(incomes, expenses, years))\n",
    "display(get_profit(create_companyDF(incomes, expenses, years), 2020))"
   ]
  },
  {
   "cell_type": "code",
   "execution_count": 4,
   "metadata": {},
   "outputs": [
    {
     "name": "stdout",
     "output_type": "stream",
     "text": [
      "1310000.0\n",
      "3\n"
     ]
    }
   ],
   "source": [
    "import pandas as pd\n",
    "\n",
    "melb_data = pd.read_csv('data/melb_data.csv', sep=',')\n",
    "print(melb_data.Price[15])\n",
    "print(round(melb_data.Landsize[3521]/melb_data.Landsize[1690]))"
   ]
  },
  {
   "cell_type": "code",
   "execution_count": 2,
   "metadata": {},
   "outputs": [
    {
     "name": "stdout",
     "output_type": "stream",
     "text": [
      "(3, 2)\n"
     ]
    }
   ],
   "source": [
    "import pandas as pd\n",
    "\n",
    "data = pd.DataFrame([[0,1], [1, 0], [1, 1]], columns=['А', 'B'])\n",
    "print(data.shape)"
   ]
  },
  {
   "cell_type": "code",
   "execution_count": 13,
   "metadata": {},
   "outputs": [
    {
     "data": {
      "text/plain": [
       "6"
      ]
     },
     "execution_count": 13,
     "metadata": {},
     "output_type": "execute_result"
    }
   ],
   "source": [
    "melb_data['Landsize'].std()\n",
    "melb_data['Price'].std()\n",
    "#melb_data['Date'].std()\n",
    "#melb_data['Type'].std()\n",
    "melb_data['Propertycount'].max()\n",
    "round(melb_data['Distance'].std())"
   ]
  },
  {
   "cell_type": "code",
   "execution_count": 18,
   "metadata": {},
   "outputs": [
    {
     "name": "stdout",
     "output_type": "stream",
     "text": [
      "10\n"
     ]
    }
   ],
   "source": [
    "buildingarea_median = melb_data['BuildingArea'].median() \n",
    "buildingarea_mean =  melb_data['BuildingArea'].mean()\n",
    "print(round(abs(buildingarea_median - buildingarea_mean)/buildingarea_mean*100))"
   ]
  },
  {
   "cell_type": "code",
   "execution_count": 20,
   "metadata": {},
   "outputs": [
    {
     "data": {
      "text/plain": [
       "0    2\n",
       "dtype: int64"
      ]
     },
     "execution_count": 20,
     "metadata": {},
     "output_type": "execute_result"
    }
   ],
   "source": [
    "row = [1, 2, 4, 2, 3, 2, 1, 5, 6]\n",
    "pd.Series(row).mode()"
   ]
  },
  {
   "cell_type": "code",
   "execution_count": 21,
   "metadata": {},
   "outputs": [
    {
     "data": {
      "text/plain": [
       "0    3.0\n",
       "Name: Bedroom, dtype: float64"
      ]
     },
     "execution_count": 21,
     "metadata": {},
     "output_type": "execute_result"
    }
   ],
   "source": [
    "melb_data['Bedroom'].mode()"
   ]
  },
  {
   "cell_type": "code",
   "execution_count": 35,
   "metadata": {},
   "outputs": [
    {
     "data": {
      "text/plain": [
       "0    Northern Metropolitan\n",
       "Name: Regionname, dtype: object"
      ]
     },
     "execution_count": 35,
     "metadata": {},
     "output_type": "execute_result"
    }
   ],
   "source": [
    "melb_data[melb_data['Bathroom'] == 0].shape[0]\n",
    "melb_data[(melb_data['SellerG'] == 'Nelson') & (melb_data['Price'] > 3000000)].shape[0]\n",
    "melb_data[melb_data['BuildingArea'] == 0]['Price'].min()\n",
    "round(melb_data[(melb_data['Price'] < 1e6) & ((melb_data['Rooms'] > 5) | (melb_data['YearBuilt'] > 2015))]['Price'].mean())\n",
    "melb_data[(melb_data['Type'] == 'h') & (melb_data['Price'] < 3e6)]['Regionname'].mode()"
   ]
  },
  {
   "cell_type": "code",
   "execution_count": null,
   "metadata": {},
   "outputs": [],
   "source": [
    "import pandas as pd\n",
    "\n",
    "student_data = pd.read_csv('data/students_performance.csv', sep=',')\n",
    "student_data.head()\n",
    "student_data['writing score'][155]\n",
    "#student_data.info()\n",
    "#student_data.describe(include='object')\n",
    "#int(student_data['math score'].mean())\n",
    "#print(student_data['race/ethnicity'].mode())\n",
    "#student_data[student_data['math score'] == 0]['math score'].count()\n",
    "avg_math_standard_lunch = student_data[student_data['lunch'] == 'standard']['math score'].mean()\n",
    "avg_math_free_lunch = student_data[student_data['lunch'] == 'free/reduced']['math score'].mean()\n",
    "if avg_math_standard_lunch > avg_math_free_lunch:\n",
    "    print(True, round(avg_math_standard_lunch))\n",
    "else:\n",
    "    print(False, round(avg_math_free_lunch))\n",
    "\n",
    "student_data['parental level of education'].value_counts(normalize=True)\n",
    "\n",
    "write_mean_C = student_data[student_data['race/ethnicity'] == 'group C']['writing score'].mean()\n",
    "write_median_A = student_data[student_data['race/ethnicity'] == 'group A']['writing score'].median()\n",
    "print(abs(round(write_median_A - write_mean_C)))\n",
    "\n",
    "student_data.describe()"
   ]
  }
 ],
 "metadata": {
  "kernelspec": {
   "display_name": "Python 3",
   "language": "python",
   "name": "python3"
  },
  "language_info": {
   "codemirror_mode": {
    "name": "ipython",
    "version": 3
   },
   "file_extension": ".py",
   "mimetype": "text/x-python",
   "name": "python",
   "nbconvert_exporter": "python",
   "pygments_lexer": "ipython3",
   "version": "3.9.13 (tags/v3.9.13:6de2ca5, May 17 2022, 16:36:42) [MSC v.1929 64 bit (AMD64)]"
  },
  "orig_nbformat": 4,
  "vscode": {
   "interpreter": {
    "hash": "cd77b519c2b1baf1c6ee5f295bd886c145c3e964bd37e52fece39b10a152b4f2"
   }
  }
 },
 "nbformat": 4,
 "nbformat_minor": 2
}
