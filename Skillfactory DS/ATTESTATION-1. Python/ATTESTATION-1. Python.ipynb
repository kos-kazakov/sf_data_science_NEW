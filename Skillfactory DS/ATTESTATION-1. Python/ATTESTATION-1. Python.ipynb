{
 "cells": [
  {
   "cell_type": "code",
   "execution_count": 7,
   "metadata": {},
   "outputs": [
    {
     "ename": "TypeError",
     "evalue": "can only concatenate list (not \"tuple\") to list",
     "output_type": "error",
     "traceback": [
      "\u001b[1;31m---------------------------------------------------------------------------\u001b[0m",
      "\u001b[1;31mTypeError\u001b[0m                                 Traceback (most recent call last)",
      "Cell \u001b[1;32mIn[7], line 4\u001b[0m\n\u001b[0;32m      1\u001b[0m one \u001b[39m=\u001b[39m [\u001b[39m1\u001b[39m, \u001b[39m\"\u001b[39m\u001b[39m2\u001b[39m\u001b[39m\"\u001b[39m, \u001b[39m3\u001b[39m, \u001b[39m\"\u001b[39m\u001b[39m4\u001b[39m\u001b[39m\"\u001b[39m]\n\u001b[0;32m      2\u001b[0m two \u001b[39m=\u001b[39m (\u001b[39m\"\u001b[39m\u001b[39ma\u001b[39m\u001b[39m\"\u001b[39m, \u001b[39m\"\u001b[39m\u001b[39mb\u001b[39m\u001b[39m\"\u001b[39m, \u001b[39m\"\u001b[39m\u001b[39mc\u001b[39m\u001b[39m\"\u001b[39m, \u001b[39m\"\u001b[39m\u001b[39md\u001b[39m\u001b[39m\"\u001b[39m)\n\u001b[1;32m----> 4\u001b[0m three \u001b[39m=\u001b[39m one \u001b[39m+\u001b[39;49m two\n\u001b[0;32m      5\u001b[0m \u001b[39mprint\u001b[39m(one)\n\u001b[0;32m      6\u001b[0m \u001b[39mprint\u001b[39m(two)\n",
      "\u001b[1;31mTypeError\u001b[0m: can only concatenate list (not \"tuple\") to list"
     ]
    }
   ],
   "source": [
    "one = [1, \"2\", 3, \"4\"]\n",
    "two = (\"a\", \"b\", \"c\", \"d\")\n",
    "\n",
    "three = one + two\n",
    "print(one)\n",
    "print(two)\n",
    "print(three)"
   ]
  },
  {
   "cell_type": "code",
   "execution_count": 10,
   "metadata": {},
   "outputs": [
    {
     "name": "stdout",
     "output_type": "stream",
     "text": [
      "[3, 2, 1]\n"
     ]
    }
   ],
   "source": [
    "my_lst = [1, 2, 3]\n",
    "my_lst = my_lst[::-1]\n",
    "print(my_lst)"
   ]
  },
  {
   "cell_type": "code",
   "execution_count": 14,
   "metadata": {},
   "outputs": [
    {
     "name": "stdout",
     "output_type": "stream",
     "text": [
      "['1', '3']\n"
     ]
    }
   ],
   "source": [
    "my_dict = {'3': 'fevev', '1': 'sgeeeg'}\n",
    "my_dict = sorted(my_dict.keys())\n",
    "print(my_dict)"
   ]
  },
  {
   "cell_type": "code",
   "execution_count": 20,
   "metadata": {},
   "outputs": [
    {
     "data": {
      "text/plain": [
       "0"
      ]
     },
     "execution_count": 20,
     "metadata": {},
     "output_type": "execute_result"
    }
   ],
   "source": [
    "config = {\n",
    "    \"server\": {\n",
    "        \"host\": \"127.0.0.1\",\n",
    "        \"port\": \"22\"\n",
    "    },\n",
    "    \"configuration\": {\n",
    "        \"ssh\": {\n",
    "            \"access\": True,\n",
    "            \"login\": \"some\",\n",
    "            \"password\": \"some\"\n",
    "        },\n",
    "        \"name\": \"2491Oaaf1414\"\n",
    "    }\n",
    "}\n",
    "\n",
    "#config['configuration']['ssh']['login']\n",
    "#config['ssh']['login']\n",
    "#config['login']\n",
    "config.get('login', 0)"
   ]
  },
  {
   "cell_type": "code",
   "execution_count": 24,
   "metadata": {},
   "outputs": [
    {
     "name": "stdout",
     "output_type": "stream",
     "text": [
      "svsvfvfscscs\n",
      "SVSV FVF SCSCS\n",
      "svsvfvfscscs\n"
     ]
    }
   ],
   "source": [
    "s = 'svsv fvf scscs'\n",
    "print(''.join(s.split(' ')))\n",
    "print(s.upper())\n",
    "print(s.replace(' ', ''))"
   ]
  },
  {
   "cell_type": "code",
   "execution_count": 32,
   "metadata": {},
   "outputs": [
    {
     "ename": "ValueError",
     "evalue": "too many values to unpack (expected 2)",
     "output_type": "error",
     "traceback": [
      "\u001b[1;31m---------------------------------------------------------------------------\u001b[0m",
      "\u001b[1;31mValueError\u001b[0m                                Traceback (most recent call last)",
      "Cell \u001b[1;32mIn[32], line 16\u001b[0m\n\u001b[0;32m      1\u001b[0m my_dict \u001b[39m=\u001b[39m {\n\u001b[0;32m      2\u001b[0m     \u001b[39m\"\u001b[39m\u001b[39mserver\u001b[39m\u001b[39m\"\u001b[39m: {\n\u001b[0;32m      3\u001b[0m         \u001b[39m\"\u001b[39m\u001b[39mhost\u001b[39m\u001b[39m\"\u001b[39m: \u001b[39m\"\u001b[39m\u001b[39m127.0.0.1\u001b[39m\u001b[39m\"\u001b[39m,\n\u001b[1;32m   (...)\u001b[0m\n\u001b[0;32m     13\u001b[0m     }\n\u001b[0;32m     14\u001b[0m }\n\u001b[1;32m---> 16\u001b[0m \u001b[39mfor\u001b[39;00m key, value \u001b[39min\u001b[39;00m my_dict:\n\u001b[0;32m     17\u001b[0m     \u001b[39mprint\u001b[39m(my_dict\u001b[39m.\u001b[39mvalues())\n",
      "\u001b[1;31mValueError\u001b[0m: too many values to unpack (expected 2)"
     ]
    }
   ],
   "source": [
    "my_dict = {\n",
    "    \"server\": {\n",
    "        \"host\": \"127.0.0.1\",\n",
    "        \"port\": \"22\"\n",
    "    },\n",
    "    \"configuration\": {\n",
    "        \"ssh\": {\n",
    "            \"access\": True,\n",
    "            \"login\": \"some\",\n",
    "            \"password\": \"some\"\n",
    "        },\n",
    "        \"name\": \"2491Oaaf1414\"\n",
    "    }\n",
    "}\n",
    "\n",
    "for key, value in my_dict:\n",
    "    print(my_dict.values())"
   ]
  },
  {
   "cell_type": "code",
   "execution_count": 34,
   "metadata": {},
   "outputs": [
    {
     "name": "stdout",
     "output_type": "stream",
     "text": [
      "False\n"
     ]
    }
   ],
   "source": [
    "s = '24225252a'\n",
    "print(s.isnumeric())"
   ]
  },
  {
   "cell_type": "code",
   "execution_count": 38,
   "metadata": {},
   "outputs": [
    {
     "ename": "NameError",
     "evalue": "name 'car' is not defined",
     "output_type": "error",
     "traceback": [
      "\u001b[1;31m---------------------------------------------------------------------------\u001b[0m",
      "\u001b[1;31mNameError\u001b[0m                                 Traceback (most recent call last)",
      "Cell \u001b[1;32mIn[38], line 3\u001b[0m\n\u001b[0;32m      1\u001b[0m \u001b[39mwhile\u001b[39;00m \u001b[39mTrue\u001b[39;00m:\n\u001b[0;32m      2\u001b[0m     \u001b[39m# здесь должен быть код системы управления\u001b[39;00m\n\u001b[1;32m----> 3\u001b[0m     \u001b[39mif\u001b[39;00m car\u001b[39m.\u001b[39mcoordinates \u001b[39m==\u001b[39m b:\n\u001b[0;32m      4\u001b[0m         \u001b[39mbreak\u001b[39;00m\n\u001b[0;32m      5\u001b[0m     \u001b[39mprint\u001b[39m(car\u001b[39m.\u001b[39mx, car\u001b[39m.\u001b[39my)\n",
      "\u001b[1;31mNameError\u001b[0m: name 'car' is not defined"
     ]
    }
   ],
   "source": [
    "while True:\n",
    "    # здесь должен быть код системы управления\n",
    "    if car.coordinates == b:\n",
    "        break\n",
    "    print(car.x, car.y)"
   ]
  },
  {
   "cell_type": "code",
   "execution_count": 50,
   "metadata": {},
   "outputs": [
    {
     "name": "stdout",
     "output_type": "stream",
     "text": [
      "None\n"
     ]
    }
   ],
   "source": [
    "def test():\n",
    "    pass\n",
    "\n",
    "\n",
    "\n",
    "print(test())"
   ]
  },
  {
   "cell_type": "code",
   "execution_count": null,
   "metadata": {},
   "outputs": [],
   "source": [
    "def standart_z(values):\n",
    "    relative_value = (values - values.min()) / (values.max() - values.min())\n",
    "    scaled_value = new[0] + (new[1] - new[0]) * relative_value\n",
    "    return scaled_value\n",
    "\n"
   ]
  },
  {
   "cell_type": "code",
   "execution_count": null,
   "metadata": {},
   "outputs": [],
   "source": [
    "# Функция чтения данных\n",
    "def read_data():\n",
    "    data = open('data/war_peace_processed.txt', 'rt', encoding='utf-8').read()\n",
    "    data = data.split('\\n')\n",
    "    return data\n",
    "\n",
    "\n",
    "# Функция подсчёта частоты употребления слова в тексте\n",
    "def freq(target_word):  \n",
    "    new_dict = dict() \n",
    "    for i in data: # СТРОКА С ОШИБКОЙ\n",
    "        if i not in new_dict:\n",
    "            new_dict[i] = 1\n",
    "        else:\n",
    "            new_dict[i] = new_dict.get(i) + 1\n",
    "    return new_dict.get(target_word, 0)\n",
    "\n",
    "\n",
    "# Вызов функций\n",
    "read_data()\n",
    "freq('война')"
   ]
  },
  {
   "cell_type": "code",
   "execution_count": 20,
   "metadata": {},
   "outputs": [],
   "source": [
    "import pandas as pd\n",
    "import numpy as np"
   ]
  },
  {
   "cell_type": "code",
   "execution_count": 45,
   "metadata": {},
   "outputs": [
    {
     "data": {
      "text/plain": [
       "date        cum_power\n",
       "2017-02-15  -1.0         1\n",
       "2018-10-10  -1.0         1\n",
       "dtype: int64"
      ]
     },
     "execution_count": 45,
     "metadata": {},
     "output_type": "execute_result"
    }
   ],
   "source": [
    "solar_data = pd.read_csv('data/solarpower.csv')\n",
    "solar_data.head()\n",
    "solar_data[solar_data['cum_power'] == -1].value_counts()"
   ]
  },
  {
   "cell_type": "code",
   "execution_count": 47,
   "metadata": {},
   "outputs": [
    {
     "name": "stderr",
     "output_type": "stream",
     "text": [
      "C:\\Users\\KKazakov\\AppData\\Local\\Temp\\ipykernel_2736\\2013882210.py:5: SettingWithCopyWarning: \n",
      "A value is trying to be set on a copy of a slice from a DataFrame\n",
      "\n",
      "See the caveats in the documentation: https://pandas.pydata.org/pandas-docs/stable/user_guide/indexing.html#returning-a-view-versus-a-copy\n",
      "  solar_data['cum_power'][i] = (solar_data['cum_power'][i-1] + solar_data['cum_power'][i+1])/2\n"
     ]
    }
   ],
   "source": [
    "# вариант 1\n",
    "solar_data['cum_power'] = solar_data['cum_power'].apply(lambda x: x if x!=-1 else solar_data['cum_power'].interpolate())\n",
    "\n",
    "# вариант 2\n",
    "for i in range(len(solar_data['cum_power'])):\n",
    "    if solar_data['cum_power'][i] == -1:\n",
    "        solar_data['cum_power'][i] = (solar_data['cum_power'][i-1] + solar_data['cum_power'][i+1])/2\n",
    "\n",
    "solar_data.to_csv('data/solarpower_2.csv', index=False, sep=';')\n"
   ]
  },
  {
   "cell_type": "code",
   "execution_count": 157,
   "metadata": {},
   "outputs": [
    {
     "name": "stdout",
     "output_type": "stream",
     "text": [
      "{'Oranges (packaged)': 114.99, 'Candy (Rotfront)': 280.0, 'Boiled sausage': 133.99, 'Juice J7 (orange)': 105.59, 'Trout (Seven Seas)': 327.99}\n"
     ]
    }
   ],
   "source": [
    "products={\n",
    "        \"Oranges (packaged)\": 114.99,\n",
    "        \"Candy (Rotfront)\": 280.00,\n",
    "        \"Boiled sausage\": 199.99,\n",
    "        \"Juice J7 (orange)\": 119.99,\n",
    "        \"Trout (Seven Seas)\": 399.99\n",
    "        }\n",
    "stocks = {\n",
    "        \"Boiled sausage\": \"33%\",\n",
    "        \"Juice J7 (orange)\": \"12%\",\n",
    "        \"Trout (Seven Seas)\": \"18%\"\n",
    "    }\n",
    "\n",
    "def apply_discounts(products, stocks):\n",
    "    result = {}\n",
    "    for key in stocks.keys():\n",
    "        stocks[key] = round(float(stocks[key].replace('%',''))/100,2)\n",
    "        \n",
    "    for key, value in products.items():\n",
    "        if key in stocks:\n",
    "             result[key] = round(value - (value * stocks[key]),2)\n",
    "        else:\n",
    "            result[key] = value\n",
    "    return result\n",
    "\n",
    "print(apply_discounts(products, stocks))\n"
   ]
  }
 ],
 "metadata": {
  "kernelspec": {
   "display_name": "Python 3",
   "language": "python",
   "name": "python3"
  },
  "language_info": {
   "codemirror_mode": {
    "name": "ipython",
    "version": 3
   },
   "file_extension": ".py",
   "mimetype": "text/x-python",
   "name": "python",
   "nbconvert_exporter": "python",
   "pygments_lexer": "ipython3",
   "version": "3.9.13"
  },
  "orig_nbformat": 4,
  "vscode": {
   "interpreter": {
    "hash": "cd77b519c2b1baf1c6ee5f295bd886c145c3e964bd37e52fece39b10a152b4f2"
   }
  }
 },
 "nbformat": 4,
 "nbformat_minor": 2
}
